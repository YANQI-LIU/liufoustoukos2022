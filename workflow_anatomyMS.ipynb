{
 "cells": [
  {
   "cell_type": "markdown",
   "metadata": {},
   "source": [
    "## Work flow for single cell tracing analysis for anatomy MS 2021\n",
    "\n",
    "__Folder Preparation__\n",
    "\n",
    "all the required image files are provided under folder with the mouse name<br>\n",
    "xxx/AL066/<br>\n",
    "Should have:  <br>\n",
    "ara2sample/<br>\n",
    "ara2sample_atlas/<br>\n",
    "ara2sample_bf/<br>\n",
    "\n",
    "\n",
    "Some prompt will show up asking for input directory, specific files for downsampled points, and output directory\n",
    "\n",
    "Find End of section 4, select the text. Then from the menu on top- run- run all above selected cell\n",
    "\n",
    "Section 1 involves:\n",
    "\n",
    "4. Identify working with axons(is_axon=1) or not (is_axon=0)\n",
    "5. read atlas_labels from provided ccf_2017_itksnap.csv provided\n",
    "6. read in points and get the name of corresponding atlas, outputs points with indices in the corresponding atlas\n",
    "7. generates tiff stack for points \n",
    "8. a) check if points are within the atlas brain (ie. if there are indices of 0 then some points are outside of the brain)\n",
    "b) correct some of the issue with labeling (see details within the cell)\n",
    "9. generates .xls files for number of axons in corresponding brain region. (also generate another xls that groups them by parent structure)\n",
    "\n",
    "_Note that its better to output all .xls files in the same folder ( out_dir) for analysis_ \n",
    "\n",
    "10. Section 2: Plot coronal, horizontal and tangential (barrel field) view of non-downsampled points with colours differentiating their location (grey, white and stratum).\n",
    "11. Section 3: Generate parent.xls from each axon.xls files (from step 9)\n",
    "12. Section 4: Bar plots of # of axon in specific brain regions for each neuron (sort by most to least amount of parent structure)\n",
    "13. Section 5: Summary annotated heatmap (points grouped by parent structure from the result of section 3)\n"
   ]
  },
  {
   "cell_type": "code",
   "execution_count": 1,
   "metadata": {
    "tags": []
   },
   "outputs": [
    {
     "data": {
      "text/html": [
       "        <script type=\"text/javascript\">\n",
       "        window.PlotlyConfig = {MathJaxConfig: 'local'};\n",
       "        if (window.MathJax) {MathJax.Hub.Config({SVG: {font: \"STIX-Web\"}});}\n",
       "        if (typeof require !== 'undefined') {\n",
       "        require.undef(\"plotly\");\n",
       "        requirejs.config({\n",
       "            paths: {\n",
       "                'plotly': ['https://cdn.plot.ly/plotly-2.2.0.min']\n",
       "            }\n",
       "        });\n",
       "        require(['plotly'], function(Plotly) {\n",
       "            window._Plotly = Plotly;\n",
       "        });\n",
       "        }\n",
       "        </script>\n",
       "        "
      ]
     },
     "metadata": {},
     "output_type": "display_data"
    }
   ],
   "source": [
    "import os\n",
    "import tkinter.filedialog as fdialog\n",
    "import Neuron_analysis as na\n",
    "from Neuron_analysis import *\n",
    "import numpy as np\n",
    "\n",
    "import pandas as pd\n",
    "import SimpleITK as sitk\n",
    "\n",
    "import re\n",
    "\n",
    "import plotly\n",
    "import plotly.offline\n",
    "import plotly.graph_objects as go\n",
    "from plotly.subplots import make_subplots\n",
    "\n",
    "import plotly.figure_factory as ff\n",
    "\n",
    "from plotly.offline import download_plotlyjs, init_notebook_mode, plot, iplot\n",
    "init_notebook_mode(connected=True)"
   ]
  },
  {
   "cell_type": "code",
   "execution_count": 2,
   "metadata": {},
   "outputs": [],
   "source": [
    "out_dir=fdialog.askdirectory(title='Please select the output directory to store all the results')"
   ]
  },
  {
   "cell_type": "code",
   "execution_count": 3,
   "metadata": {},
   "outputs": [],
   "source": [
    "atlas_labels=pd.read_csv('ccf_2017_itksnap_labels.csv', sep=',')"
   ]
  },
  {
   "cell_type": "markdown",
   "metadata": {
    "tags": []
   },
   "source": [
    "## Section 1. generate axon and dendrite excel file\n",
    "##### run the following session (including the repeat of axon and dendrite) for each brain"
   ]
  },
  {
   "cell_type": "code",
   "execution_count": 4,
   "metadata": {},
   "outputs": [],
   "source": [
    "##point of manual work here! repeat for each brain\n",
    "in_dir = fdialog.askdirectory(title='Please select the folder with mouse name')\n",
    "# ie: D:\\xxxx\\AL066"
   ]
  },
  {
   "cell_type": "code",
   "execution_count": 5,
   "metadata": {},
   "outputs": [
    {
     "data": {
      "text/plain": [
       "'AL110'"
      ]
     },
     "execution_count": 5,
     "metadata": {},
     "output_type": "execute_result"
    }
   ],
   "source": [
    "mouse_name=na.find_mousename(in_dir)\n",
    "out_name=os.path.join(out_dir ,mouse_name)\n",
    "mouse_name"
   ]
  },
  {
   "cell_type": "code",
   "execution_count": 6,
   "metadata": {},
   "outputs": [],
   "source": [
    "all_files=os.listdir(in_dir)\n",
    "axon=[i for i in all_files if f'{mouse_name}_25.0voxel_trace' in i]\n",
    "dendrite=[i for i in all_files if f'{mouse_name}D_25.0voxel_trace' in i]\n",
    "axon=os.path.join(in_dir, axon[0])\n",
    "dendrite=os.path.join(in_dir, dendrite[0])\n"
   ]
  },
  {
   "cell_type": "code",
   "execution_count": null,
   "metadata": {},
   "outputs": [],
   "source": []
  },
  {
   "cell_type": "markdown",
   "metadata": {
    "tags": []
   },
   "source": [
    "### Section 1.1\n",
    "#### change is_axon=1 and then 0 for dendrite and run the rest of the code up until indicated point"
   ]
  },
  {
   "cell_type": "code",
   "execution_count": 7,
   "metadata": {},
   "outputs": [],
   "source": [
    "##point of manual work here\n",
    "is_axon=1\n",
    "\n",
    "if is_axon==1:\n",
    "    file_type=axon\n",
    "elif is_axon==0:\n",
    "    file_type=dendrite\n",
    "# put 0 if working with dendrites`and repea the following cells for each neuron"
   ]
  },
  {
   "cell_type": "code",
   "execution_count": 8,
   "metadata": {
    "tags": []
   },
   "outputs": [],
   "source": [
    "# Two useful functions\n",
    "def check_points(points_in_atlas):\n",
    "    '''Checks whether all your points' ID is within the atlas labels\n",
    "    Input: matching ID of the points (this is the second output from na.make_pd)\n",
    "    '''\n",
    "    id_inatlas=[]\n",
    "    for x in atlas_labels['region_id']:\n",
    "        intID = int(x)\n",
    "        id_inatlas.append(intID)\n",
    "\n",
    "    # need to format this first ourselves,otherwise problematic for 0 and very large numbers (idk why)    \n",
    "\n",
    "    num_of_zeros = [i for i, x in enumerate(points_in_atlas) if x == 0]\n",
    "    # find the indices for which carries an id =0\n",
    "    \n",
    "    unique_id=set(points_in_atlas)\n",
    "    \n",
    "    for id_inbrain in unique_id:\n",
    "        if id_inbrain not in id_inatlas:\n",
    "            if id_inbrain==0:\n",
    "                print(f'There are {len(num_of_zeros)} points with ID= {id_inbrain}, this index is outside of the brain, consider possible suboptimal image registration')\n",
    "            else: \n",
    "                print(id_inbrain,'this index does not exist in allen reference atlas, see https://github.com/ChristophKirst/ClearMap/issues/37')\n",
    "    return \n"
   ]
  },
  {
   "cell_type": "code",
   "execution_count": 9,
   "metadata": {},
   "outputs": [],
   "source": [
    "points,atlas_name=na.get_pt_natlas(file_type,in_dir)\n",
    "# read points and get path name of the corresponding atlas"
   ]
  },
  {
   "cell_type": "code",
   "execution_count": 10,
   "metadata": {},
   "outputs": [
    {
     "name": "stdout",
     "output_type": "stream",
     "text": [
      "Starting to saving tif files..\n"
     ]
    },
    {
     "name": "stderr",
     "output_type": "stream",
     "text": [
      "C:\\Users\\liu\\Neuron_analysis\\atlas.py:163: UserWarning:\n",
      "\n",
      "D:/Complete_points\\AL110_axons.tif is a low contrast image\n",
      "\n"
     ]
    }
   ],
   "source": [
    "if is_axon :\n",
    "    na.atlas.make_tif_1(points, atlas_name,os.path.join(out_dir, mouse_name), is_axon)\n",
    "else:\n",
    "    na.atlas.make_tif(points, atlas_name,os.path.join(out_dir, mouse_name), is_axon)\n",
    "# save points as a tiff file for visualization and overlay\n",
    "# for dendrites, keep the intensities different since...its too cramped up and will look bad!"
   ]
  },
  {
   "cell_type": "code",
   "execution_count": 11,
   "metadata": {},
   "outputs": [],
   "source": [
    "points_in_atlas= na.points.find_point_id (points,atlas_name)"
   ]
  },
  {
   "cell_type": "code",
   "execution_count": 12,
   "metadata": {},
   "outputs": [],
   "source": [
    "check_points(points_in_atlas)\n",
    "#we should only see id=0 as possibility now since now is using the itksnap_wraped atlas"
   ]
  },
  {
   "cell_type": "code",
   "execution_count": 13,
   "metadata": {},
   "outputs": [],
   "source": [
    "points_in_atlas= np.where(points_in_atlas==0, 844, points_in_atlas) \n",
    "# replace id= 0 with 844 (ssp-bfd layer1)\n",
    "\n",
    "if is_axon :\n",
    "    points_in_atlas= np.where(points_in_atlas==800 , 215 , points_in_atlas) \n",
    "    points_in_atlas= np.where(points_in_atlas==1092 , 215 , points_in_atlas)\n",
    "    # replace id= 800 (subependymal zone) and 1092 (lateral ventricle) with 215(caudoputamen)\n",
    "    # especially for AL131\n",
    "    \n",
    "    points_in_atlas= np.where(points_in_atlas==1242, 1296 , points_in_atlas) \n",
    "    points_in_atlas= np.where(points_in_atlas==1127, 1296 , points_in_atlas)\n",
    "    # replace id= 1242 (optic radiation)  and id= 1127 (auditory radiation) with 1296, stc(a subregion of fiber bundle)\n",
    "    # these are intrinsic issue of the allen atlas, the labels for these regions are wrong\n",
    "\n",
    "check_points(points_in_atlas)\n",
    "# check again to see if 0 disappears"
   ]
  },
  {
   "cell_type": "code",
   "execution_count": 14,
   "metadata": {},
   "outputs": [],
   "source": [
    "if is_axon :\n",
    "    points_in_atlas= np.where(points_in_atlas==800 , 215 , points_in_atlas) \n",
    "    points_in_atlas= np.where(points_in_atlas==1092 , 215 , points_in_atlas)\n",
    "    # replace id= 800 (subependymal zone) and 1092 (lateral ventricle) with 215(caudoputamen)\n",
    "    # especially for AL131\n",
    "    \n",
    "    points_in_atlas= np.where(points_in_atlas==1242, 1296 , points_in_atlas) \n",
    "    points_in_atlas= np.where(points_in_atlas==1127, 1296 , points_in_atlas)\n",
    "    # replace id= 1242 (optic radiation)  and id= 1127 (auditory radiation) with 1296, stc(a subregion of fiber bundle)\n",
    "    # these are intrinsic issue of the allen atlas, the labels for these regions are wrong\n",
    "\n",
    "check_points(points_in_atlas)\n",
    "# check again to see if 0 disappears"
   ]
  },
  {
   "cell_type": "code",
   "execution_count": 15,
   "metadata": {},
   "outputs": [
    {
     "name": "stderr",
     "output_type": "stream",
     "text": [
      "C:\\Users\\liu\\Neuron_analysis\\points.py:235: FutureWarning:\n",
      "\n",
      "As the xlwt package is no longer maintained, the xlwt engine will be removed in a future version of pandas. This is the only engine in pandas that supports writing in the xls format. Install openpyxl and write to an xlsx file instead. You can set the option io.excel.xls.writer to 'xlwt' to silence this warning. While this option is deprecated and will also raise a warning, it can be globally set and the warning suppressed.\n",
      "\n"
     ]
    }
   ],
   "source": [
    "region_counts=na.points.make_pd_ara2sample(points_in_atlas.tolist(),atlas_labels,out_name,is_axon)\n",
    "# This gives an excel file identifying number of points in a given region\n"
   ]
  },
  {
   "cell_type": "code",
   "execution_count": 16,
   "metadata": {},
   "outputs": [],
   "source": [
    "##### step below: associated region id on origional(non-downsampled and non-transformed) annotation (converted to um units and resampled to 1um steps)\n",
    "\n",
    "\n",
    "points_original=[i for i in all_files if f'{mouse_name}_stamp' in i]\n",
    "points_original= os.path.join(in_dir, points_original[0])\n",
    "#points_original= fdialog.askopenfilename(title='Selecte the original resampled points for axons')\n",
    "# asks for the non-downsampled annotation, usually the eswc file that has been converted to um and resampled at 1 um steps\n",
    "# provided within the same folder of the mouse name\n",
    "# and with name called ...converted...resampled.eswc\n",
    "\n",
    "original_withID=na.points.findID_origional(points_original, points_in_atlas,out_name,is_axon)\n",
    "#makes a csv file with original points and their associated id"
   ]
  },
  {
   "cell_type": "code",
   "execution_count": 17,
   "metadata": {},
   "outputs": [],
   "source": [
    "# repeat everything for dendrite\n",
    "is_axon=0\n",
    "if is_axon==1:\n",
    "    file_type=axon\n",
    "elif is_axon==0:\n",
    "    file_type=dendrite"
   ]
  },
  {
   "cell_type": "code",
   "execution_count": 18,
   "metadata": {},
   "outputs": [
    {
     "name": "stdout",
     "output_type": "stream",
     "text": [
      "Starting to saving tif files..\n"
     ]
    },
    {
     "name": "stderr",
     "output_type": "stream",
     "text": [
      "C:\\Users\\liu\\Neuron_analysis\\atlas.py:112: UserWarning:\n",
      "\n",
      "D:/Complete_points\\AL110_dendrites.tif is a low contrast image\n",
      "\n"
     ]
    },
    {
     "name": "stdout",
     "output_type": "stream",
     "text": [
      "There are 5 points with ID= 0, this index is outside of the brain, consider possible suboptimal image registration\n"
     ]
    }
   ],
   "source": [
    "# repeat everything for dendrite\n",
    "\n",
    "points,atlas_name=na.get_pt_natlas(file_type,in_dir)\n",
    "# read points and get path name of the corresponding atlas\n",
    "    \n",
    "if is_axon :\n",
    "    na.atlas.make_tif_1(points, atlas_name,os.path.join(out_dir, mouse_name), is_axon)\n",
    "else:\n",
    "    na.atlas.make_tif(points, atlas_name,os.path.join(out_dir, mouse_name), is_axon)\n",
    "# save points as a tiff file for visualization and overlay\n",
    "# for dendrites, keep the intensities different since...its too cramped up and will look bad!\n",
    "\n",
    "points_in_atlas= na.points.find_point_id (points,atlas_name)\n",
    "\n",
    "check_points(points_in_atlas)\n",
    "#we should only see id=0 as possibility now since now is using the itksnap_wraped atlas\n",
    "points_in_atlas= np.where(points_in_atlas==0, 844, points_in_atlas) \n",
    "# replace id= 0 with 844 (ssp-bfd layer1)"
   ]
  },
  {
   "cell_type": "code",
   "execution_count": 19,
   "metadata": {},
   "outputs": [],
   "source": [
    "points_in_atlas= np.where(points_in_atlas==0, 844, points_in_atlas) \n",
    "# replace id= 0 with 844 (ssp-bfd layer1)"
   ]
  },
  {
   "cell_type": "code",
   "execution_count": 20,
   "metadata": {},
   "outputs": [],
   "source": [
    "check_points(points_in_atlas)\n",
    "# check again to see if 0 disappears\n",
    "region_counts=na.points.make_pd_ara2sample(points_in_atlas.tolist(),atlas_labels,out_name,is_axon)\n",
    "# This gives an excel file identifying number of points in a given region"
   ]
  },
  {
   "cell_type": "code",
   "execution_count": 21,
   "metadata": {},
   "outputs": [],
   "source": [
    "##### step below: associated region id on origional(non-downsampled and non-transformed) annotation (converted to um units and resampled to 1um steps)\n",
    "\n",
    "points_original=[i for i in all_files if f'{mouse_name}D_stamp' in i]\n",
    "points_original=os.path.join(in_dir, points_original[0])\n",
    "\n",
    "original_withID=na.points.findID_origional(points_original, points_in_atlas,out_name,is_axon)\n",
    "#makes a csv file with original points and their associated id"
   ]
  },
  {
   "cell_type": "code",
   "execution_count": 22,
   "metadata": {},
   "outputs": [
    {
     "data": {
      "text/plain": [
       "'AL110'"
      ]
     },
     "execution_count": 22,
     "metadata": {},
     "output_type": "execute_result"
    }
   ],
   "source": [
    "mouse_name"
   ]
  },
  {
   "cell_type": "markdown",
   "metadata": {
    "tags": []
   },
   "source": [
    "##### stop here for axon and dendrite quantification"
   ]
  },
  {
   "cell_type": "markdown",
   "metadata": {
    "tags": []
   },
   "source": [
    "## End of section 1\n",
    "Repeat the above cells to have two excel files(axons and dendite) for all neuron. "
   ]
  },
  {
   "cell_type": "markdown",
   "metadata": {
    "tags": []
   },
   "source": [
    "## Section 2:  Plot coronal, horizontal and bf view in higher resolution\n",
    "\n",
    "with different colours for axons in grey matter, white matter, or striatum\n",
    "\n",
    "Same ideas for dendrite but all dendrite are in grey matter, so it would be a simplified code for them"
   ]
  },
  {
   "cell_type": "code",
   "execution_count": 23,
   "metadata": {},
   "outputs": [],
   "source": [
    "import matplotlib.pyplot as plt\n",
    "import tkinter.filedialog as fdialog\n",
    "\n",
    "import math\n"
   ]
  },
  {
   "cell_type": "code",
   "execution_count": 24,
   "metadata": {},
   "outputs": [],
   "source": [
    "#out_dir=fdialog.askdirectory(title='Please select the output directory to store all the results')\n"
   ]
  },
  {
   "cell_type": "code",
   "execution_count": 25,
   "metadata": {},
   "outputs": [],
   "source": [
    "#atlas_labels=pd.read_csv('ccf_2017_itksnap_labels.csv', sep=',')\n"
   ]
  },
  {
   "cell_type": "code",
   "execution_count": 26,
   "metadata": {},
   "outputs": [
    {
     "data": {
      "text/plain": [
       "'AL110'"
      ]
     },
     "execution_count": 26,
     "metadata": {},
     "output_type": "execute_result"
    }
   ],
   "source": [
    "ori_pointsID= fdialog.askopenfilename(initialdir=out_dir, title='Selecte the original resampled points with ID excel file for axons')\n",
    "mouse_name= na.find_mousename(ori_pointsID)\n",
    "mouse_name"
   ]
  },
  {
   "cell_type": "code",
   "execution_count": 27,
   "metadata": {},
   "outputs": [
    {
     "data": {
      "text/html": [
       "<div>\n",
       "<style scoped>\n",
       "    .dataframe tbody tr th:only-of-type {\n",
       "        vertical-align: middle;\n",
       "    }\n",
       "\n",
       "    .dataframe tbody tr th {\n",
       "        vertical-align: top;\n",
       "    }\n",
       "\n",
       "    .dataframe thead th {\n",
       "        text-align: right;\n",
       "    }\n",
       "</style>\n",
       "<table border=\"1\" class=\"dataframe\">\n",
       "  <thead>\n",
       "    <tr style=\"text-align: right;\">\n",
       "      <th></th>\n",
       "      <th>x</th>\n",
       "      <th>y</th>\n",
       "      <th>z</th>\n",
       "      <th>atlasID</th>\n",
       "    </tr>\n",
       "  </thead>\n",
       "  <tbody>\n",
       "    <tr>\n",
       "      <th>0</th>\n",
       "      <td>4553.51</td>\n",
       "      <td>1962.31</td>\n",
       "      <td>3650.00</td>\n",
       "      <td>844</td>\n",
       "    </tr>\n",
       "    <tr>\n",
       "      <th>1</th>\n",
       "      <td>4552.53</td>\n",
       "      <td>1962.41</td>\n",
       "      <td>3649.85</td>\n",
       "      <td>844</td>\n",
       "    </tr>\n",
       "    <tr>\n",
       "      <th>2</th>\n",
       "      <td>4551.54</td>\n",
       "      <td>1962.51</td>\n",
       "      <td>3649.69</td>\n",
       "      <td>844</td>\n",
       "    </tr>\n",
       "    <tr>\n",
       "      <th>3</th>\n",
       "      <td>4550.56</td>\n",
       "      <td>1962.61</td>\n",
       "      <td>3649.54</td>\n",
       "      <td>844</td>\n",
       "    </tr>\n",
       "    <tr>\n",
       "      <th>4</th>\n",
       "      <td>4549.91</td>\n",
       "      <td>1962.77</td>\n",
       "      <td>3649.08</td>\n",
       "      <td>844</td>\n",
       "    </tr>\n",
       "  </tbody>\n",
       "</table>\n",
       "</div>"
      ],
      "text/plain": [
       "         x        y        z  atlasID\n",
       "0  4553.51  1962.31  3650.00      844\n",
       "1  4552.53  1962.41  3649.85      844\n",
       "2  4551.54  1962.51  3649.69      844\n",
       "3  4550.56  1962.61  3649.54      844\n",
       "4  4549.91  1962.77  3649.08      844"
      ]
     },
     "execution_count": 27,
     "metadata": {},
     "output_type": "execute_result"
    }
   ],
   "source": [
    "original_withID= pd.read_csv (ori_pointsID)\n",
    "original_withID.head()"
   ]
  },
  {
   "cell_type": "code",
   "execution_count": 28,
   "metadata": {},
   "outputs": [],
   "source": [
    "full_label=pd.merge(na.atlas_labels, atlas_labels, on = 'acronym')"
   ]
  },
  {
   "cell_type": "code",
   "execution_count": 29,
   "metadata": {},
   "outputs": [],
   "source": [
    "fiber_tracts=full_label[full_label['structure_id_path'].str.contains(\"1009\")].region_id\n",
    "fiber_tracts=fiber_tracts.tolist()"
   ]
  },
  {
   "cell_type": "code",
   "execution_count": 30,
   "metadata": {},
   "outputs": [],
   "source": [
    "striatum=full_label[full_label['structure_id_path'].str.contains(\"477\")].region_id\n",
    "striatum=striatum.tolist()"
   ]
  },
  {
   "cell_type": "code",
   "execution_count": 31,
   "metadata": {},
   "outputs": [],
   "source": [
    "white=original_withID.loc[original_withID['atlasID'].isin(fiber_tracts)]\n",
    "grey=original_withID.loc[~original_withID['atlasID'].isin(fiber_tracts) & ~original_withID['atlasID'].isin(striatum)]\n",
    "stri=original_withID.loc[original_withID['atlasID'].isin(striatum)]"
   ]
  },
  {
   "cell_type": "code",
   "execution_count": 32,
   "metadata": {},
   "outputs": [],
   "source": [
    "xg= pd.to_numeric(grey['x']).round()\n",
    "yg= pd.to_numeric(grey['y']).round()\n",
    "zg= pd.to_numeric(grey['z']).round()\n",
    "\n",
    "xw= pd.to_numeric(white['x']).round()\n",
    "yw= pd.to_numeric(white['y']).round()\n",
    "zw= pd.to_numeric(white['z']).round()\n",
    "\n",
    "xs= pd.to_numeric(stri['x']).round()\n",
    "ys= pd.to_numeric(stri['y']).round()\n",
    "zs= pd.to_numeric(stri['z']).round()"
   ]
  },
  {
   "cell_type": "code",
   "execution_count": 33,
   "metadata": {},
   "outputs": [
    {
     "data": {
      "image/png": "[encoded data removed]",
      "text/plain": [
       "<Figure size 432x288 with 1 Axes>"
      ]
     },
     "metadata": {
      "needs_background": "light"
     },
     "output_type": "display_data"
    }
   ],
   "source": [
    "plt.scatter(xg[::5], yg[::5],s=0.01, c='red')\n",
    "plt.scatter(xw[::5], yw[::5], s= 0.01, c= 'deepskyblue')\n",
    "plt.scatter(xs[::5], ys[::5], s= 0.01, c= 'lime')\n",
    "frame1 = plt.gca()\n",
    "frame1.axes.get_xaxis().set_visible(False)\n",
    "frame1.axes.get_yaxis().set_visible(False)\n",
    "plt.savefig(out_name+\"_c_axons.svg\", format='svg')\n",
    "\n",
    "plt.show()"
   ]
  },
  {
   "cell_type": "code",
   "execution_count": 34,
   "metadata": {},
   "outputs": [
    {
     "data": {
      "image/png": "[encoded data removed]",
      "text/plain": [
       "<Figure size 432x288 with 1 Axes>"
      ]
     },
     "metadata": {
      "needs_background": "light"
     },
     "output_type": "display_data"
    }
   ],
   "source": [
    "plt.scatter(xg[::5], zg[::5],s=0.01, c='red')\n",
    "plt.scatter(xw[::5], zw[::5], s= 0.01, c= 'deepskyblue')\n",
    "plt.scatter(xs[::5], zs[::5], s= 0.01, c= 'lime')\n",
    "frame1 = plt.gca()\n",
    "frame1.axes.get_xaxis().set_visible(False)\n",
    "frame1.axes.get_yaxis().set_visible(False)\n",
    "plt.savefig(out_name+\"_h_axons.svg\", format='svg')\n",
    "plt.show()\n",
    "#horizontal view"
   ]
  },
  {
   "cell_type": "code",
   "execution_count": 35,
   "metadata": {},
   "outputs": [],
   "source": [
    "def rotate(x,y,xo,yo,degrees): #rotate x,y around xo,yo by x degrees\n",
    "    theta = np.deg2rad(degrees) # convert degrees to rad\n",
    "    xr=math.cos(theta)*(x-xo)-math.sin(theta)*(y-yo)  + xo\n",
    "    yr=math.sin(theta)*(x-xo)+math.cos(theta)*(y-yo)  + yo\n",
    "    return [xr,yr]"
   ]
  },
  {
   "cell_type": "code",
   "execution_count": 36,
   "metadata": {},
   "outputs": [],
   "source": [
    "list_xy= list(zip(xg,yg))\n",
    "list_xy[1]\n",
    "rot_xg=[]\n",
    "rot_yg=[]\n",
    "for i in list_xy:\n",
    "    x= i[0]\n",
    "    y= i[1]\n",
    "    newx,newy= rotate(x,y,0,0,30)\n",
    "    rot_xg.append(newx)\n",
    "    rot_yg.append(newy)\n",
    "\n",
    "list_xy= []"
   ]
  },
  {
   "cell_type": "code",
   "execution_count": 37,
   "metadata": {},
   "outputs": [],
   "source": [
    "if xw.empty:\n",
    "    rot_xw=[]\n",
    "    rot_yw=[]\n",
    "else: \n",
    "    list_xy= list(zip(xw,yw))\n",
    "    list_xy[1]\n",
    "    rot_xw=[]\n",
    "    rot_yw=[]\n",
    "    for i in list_xy:\n",
    "        x= i[0]\n",
    "        y= i[1]\n",
    "        newx,newy= rotate(x,y,0,0,30)\n",
    "        rot_xw.append(newx)\n",
    "        rot_yw.append(newy)\n",
    "\n",
    "    list_xy= []"
   ]
  },
  {
   "cell_type": "code",
   "execution_count": 38,
   "metadata": {},
   "outputs": [],
   "source": [
    "if xs.empty:\n",
    "    rot_xs=[]\n",
    "    rot_ys=[]\n",
    "else:\n",
    "    list_xy= list(zip(xs,ys))\n",
    "    list_xy[1]\n",
    "    rot_xs=[]\n",
    "    rot_ys=[]\n",
    "    for i in list_xy:\n",
    "        x= i[0]\n",
    "        y= i[1]\n",
    "        newx,newy= rotate(x,y,0,0,30)\n",
    "        rot_xs.append(newx)\n",
    "        rot_ys.append(newy)"
   ]
  },
  {
   "cell_type": "code",
   "execution_count": 39,
   "metadata": {},
   "outputs": [
    {
     "data": {
      "image/png": "[encoded data removed]",
      "text/plain": [
       "<Figure size 432x288 with 1 Axes>"
      ]
     },
     "metadata": {
      "needs_background": "light"
     },
     "output_type": "display_data"
    }
   ],
   "source": [
    "plt.scatter(rot_xg[::5], zg[::5],s=0.01, c='red')\n",
    "plt.scatter(rot_xw[::5], zw[::5], s= 0.01, c= 'deepskyblue')\n",
    "plt.scatter(rot_xs[::5], zs[::5], s= 0.01, c= 'lime')\n",
    "frame1 = plt.gca()\n",
    "frame1.axes.get_xaxis().set_visible(False)\n",
    "frame1.axes.get_yaxis().set_visible(False)\n",
    "plt.savefig(out_name+\"_bf_axons.svg\", format='svg')\n",
    "plt.show()"
   ]
  },
  {
   "cell_type": "markdown",
   "metadata": {},
   "source": [
    "## end of section 2"
   ]
  },
  {
   "cell_type": "markdown",
   "metadata": {
    "tags": []
   },
   "source": [
    "## Section 3\n",
    "The below section then talkes a folder containing all excel file resulting from section 1\n",
    "\n",
    "For each axonal excel file, merge subregions with the common parent region (ie, SSp-bfd Layers 1, 2/3, 4, etc becomes SSp-bfd), then save as another excel file named ALxxx_parent.xls"
   ]
  },
  {
   "cell_type": "code",
   "execution_count": 40,
   "metadata": {},
   "outputs": [],
   "source": [
    "files= os.listdir(out_dir)\n",
    "axon_files=[os.path.join(out_dir ,i) for i in files if 'axons_region_with_counts' in i]\n",
    "#all_mice= set([na.find_mousename(i) for i in axon_files])\n",
    "#all_mice=list(all_mice)\n",
    "\n",
    "this_mouse= [i for i in axon_files if mouse_name in i]\n",
    "\n",
    "#out_dir= 'D:\\\\Complete_points\\\\'"
   ]
  },
  {
   "cell_type": "code",
   "execution_count": 41,
   "metadata": {},
   "outputs": [],
   "source": [
    "def parent_df(df):\n",
    "    # group dataframe by parent id structure\n",
    "    grouped_pd=df.groupby(['parent_structure_id'],as_index=False).sum()\n",
    "    d= {'id': grouped_pd.parent_structure_id.astype(int), 'Total_counts': grouped_pd.Total_counts}\n",
    "    grouped_pd2= pd.DataFrame(data=d)\n",
    "    result = pd.merge(grouped_pd2, na.atlas_labels, on=[\"id\"])\n",
    "    result.sort_values(['Total_counts'], ascending=True, inplace=True)\n",
    "    # result is the final pd\n",
    "    return result"
   ]
  },
  {
   "cell_type": "code",
   "execution_count": 42,
   "metadata": {},
   "outputs": [
    {
     "name": "stderr",
     "output_type": "stream",
     "text": [
      "D:\\anaconda\\envs\\anatomy\\lib\\site-packages\\ipykernel_launcher.py:8: FutureWarning:\n",
      "\n",
      "As the xlwt package is no longer maintained, the xlwt engine will be removed in a future version of pandas. This is the only engine in pandas that supports writing in the xls format. Install openpyxl and write to an xlsx file instead. You can set the option io.excel.xls.writer to 'xlwt' to silence this warning. While this option is deprecated and will also raise a warning, it can be globally set and the warning suppressed.\n",
      "\n"
     ]
    }
   ],
   "source": [
    "# Creates pd with parent structure (1 level up) for all\n",
    "\n",
    "axon_bar=pd.read_excel(this_mouse[0]).sort_values(by=['Total_counts'])\n",
    "new_axonpd= na.atlas_labels.merge(axon_bar, on= 'acronym')\n",
    "new_axonpd.sort_values(by= 'graph_order',axis=0, inplace=True)\n",
    "result= parent_df(new_axonpd)\n",
    "out_name=os.path.join(out_dir ,mouse_name)\n",
    "result.to_excel(f'{out_name}_parent.xls')  "
   ]
  },
  {
   "cell_type": "code",
   "execution_count": 43,
   "metadata": {},
   "outputs": [
    {
     "data": {
      "text/plain": [
       "'AL110'"
      ]
     },
     "execution_count": 43,
     "metadata": {},
     "output_type": "execute_result"
    }
   ],
   "source": [
    "mouse_name"
   ]
  },
  {
   "cell_type": "markdown",
   "metadata": {},
   "source": [
    "## End of section 3"
   ]
  },
  {
   "cell_type": "markdown",
   "metadata": {
    "tags": []
   },
   "source": [
    "## Section 4: Makes individual bar graph ##\n",
    "Point of manual input of mouse name here #\n",
    "repeat until the end of the section"
   ]
  },
  {
   "cell_type": "code",
   "execution_count": 44,
   "metadata": {},
   "outputs": [
    {
     "data": {
      "text/plain": [
       "'AL110'"
      ]
     },
     "execution_count": 44,
     "metadata": {},
     "output_type": "execute_result"
    }
   ],
   "source": [
    "files=[os.path.join(out_dir ,i) for i in files if 'region_with_counts' in i]\n",
    "mouse_name"
   ]
  },
  {
   "cell_type": "code",
   "execution_count": 45,
   "metadata": {},
   "outputs": [],
   "source": [
    "# point of manual work here..repeat for individual mice\n",
    "test= [i for i in files if re.search(mouse_name, i) ] # Need to manually enter the mouse identifier, or write a loop looping through them\n",
    "axon= test[0]\n",
    "dendrite=test[1]\n",
    "out_name=os.path.join(out_dir ,mouse_name)"
   ]
  },
  {
   "cell_type": "code",
   "execution_count": null,
   "metadata": {},
   "outputs": [],
   "source": []
  },
  {
   "cell_type": "code",
   "execution_count": 46,
   "metadata": {},
   "outputs": [],
   "source": [
    "axon_bar=pd.read_excel(axon).sort_values(by=['Total_counts'])\n",
    "dendrite_bar=pd.read_excel(dendrite).sort_values(by=['Total_counts'])"
   ]
  },
  {
   "cell_type": "code",
   "execution_count": 47,
   "metadata": {},
   "outputs": [],
   "source": [
    "new_axonpd= na.atlas_labels.merge(axon_bar, on= 'acronym')\n",
    "new_axonpd.sort_values(by= 'graph_order',axis=0, inplace=True)"
   ]
  },
  {
   "cell_type": "code",
   "execution_count": 48,
   "metadata": {},
   "outputs": [],
   "source": [
    "new_dendritepd= na.atlas_labels.merge(dendrite_bar, on= 'acronym')\n",
    "new_dendritepd.sort_values(by= 'Total_counts',axis=0, inplace=True)"
   ]
  },
  {
   "cell_type": "markdown",
   "metadata": {
    "jp-MarkdownHeadingCollapsed": true,
    "tags": []
   },
   "source": [
    "order by total amount of a parent region "
   ]
  },
  {
   "cell_type": "code",
   "execution_count": 49,
   "metadata": {},
   "outputs": [],
   "source": [
    "def parent_df(df):\n",
    "    # group dataframe by parent id structure\n",
    "    grouped_pd=df.groupby(['parent_structure_id'],as_index=False).sum()\n",
    "    d= {'id': grouped_pd.parent_structure_id.astype(int), 'Total_counts': grouped_pd.Total_counts}\n",
    "    grouped_pd2= pd.DataFrame(data=d)\n",
    "    result = pd.merge(grouped_pd2, na.atlas_labels, on=[\"id\"])\n",
    "    result.sort_values(['Total_counts'], ascending=True, inplace=True)\n",
    "    # result is the final pd\n",
    "\n",
    "    return result"
   ]
  },
  {
   "cell_type": "code",
   "execution_count": 50,
   "metadata": {},
   "outputs": [],
   "source": [
    "result= parent_df(new_axonpd)\n",
    "new_order=result.id.to_numpy()\n",
    "#new_order"
   ]
  },
  {
   "cell_type": "code",
   "execution_count": 51,
   "metadata": {},
   "outputs": [],
   "source": [
    "old_order= new_axonpd.parent_structure_id.to_numpy()   \n",
    "#old_order"
   ]
  },
  {
   "cell_type": "code",
   "execution_count": 52,
   "metadata": {},
   "outputs": [],
   "source": [
    "new_array= np.zeros_like(old_order)\n",
    "for i, j in enumerate(new_order):\n",
    "    new_array[old_order==j]=i\n",
    "\n",
    "#new_array\n",
    "# generate new order for the detailed pd"
   ]
  },
  {
   "cell_type": "code",
   "execution_count": 53,
   "metadata": {},
   "outputs": [],
   "source": [
    "new_axonpd['new_order']= new_array\n",
    "new_axonpd.sort_values('new_order', inplace=True)"
   ]
  },
  {
   "cell_type": "code",
   "execution_count": 54,
   "metadata": {},
   "outputs": [],
   "source": [
    "new_axonpd.sort_values(by=['new_order', 'region_id'], ascending=[True, False] ,inplace=True)\n",
    "# sort by new order first (total amount within the same parent id), and then within each substructure, sort by layer 1 to layer 6"
   ]
  },
  {
   "cell_type": "code",
   "execution_count": null,
   "metadata": {},
   "outputs": [],
   "source": []
  },
  {
   "cell_type": "code",
   "execution_count": 55,
   "metadata": {
    "tags": []
   },
   "outputs": [],
   "source": [
    "def plot_hist(pd_axon, pd_dendrite, mousename):\n",
    "    ''' \n",
    "    Plot horizontal histogram of all points and ending points of axons and dendrites\n",
    "    Input: pandas dataframe of axon, pandas dataframe of dendrite, mousename\n",
    "    '''\n",
    "    y=pd_axon['acronym']\n",
    "    fig = make_subplots(\n",
    "        shared_yaxes=True,\n",
    "        rows=2, cols=1,\n",
    "        row_heights=[0.9, 0.1],\n",
    "        row_titles=['Axons', 'Dendrites']\n",
    "    )\n",
    "    fig.add_trace(\n",
    "        go.Bar(\n",
    "        y=y, x=pd_axon['Total_counts']/1000, # units now in milimeters\n",
    "        marker_color='red', #for future, pd_axon['region_id'],\n",
    "        name='',\n",
    "        #text=pd_axon['name'],\n",
    "        hovertemplate=\n",
    "            '<i>%{x}</i>, '+\n",
    "            '<b>%{text}</b>',\n",
    "        orientation='h'),\n",
    "        row=1,col=1\n",
    "    )\n",
    "    \n",
    "\n",
    "    z=pd_dendrite['acronym']\n",
    "    fig.add_trace(\n",
    "        go.Bar(\n",
    "        y=z, x=pd_dendrite['Total_counts']/1000, # units now in milimeters\n",
    "        marker_color='black',\n",
    "        name='',\n",
    "        #text=pd_dendrite['name'],\n",
    "        hovertemplate=\n",
    "        '<i>%{x}</i>, '+\n",
    "        '<b>%{text}</b>',\n",
    "        orientation='h'),\n",
    "        row=2,col=1\n",
    "    )\n",
    "\n",
    "    \n",
    "    fig.update_layout(yaxis={'categoryorder':'trace'}, \n",
    "                      width=2000,\n",
    "                      height=1000, # 1500 for AL066 since too many items\n",
    "                      showlegend= False,\n",
    "                      paper_bgcolor='rgba(0,0,0,0)', # transparent background\n",
    "                      plot_bgcolor='rgba(0,0,0,0)' # transparent background\n",
    "                     )\n",
    "    \n",
    "    fig.update_xaxes(gridcolor='gold')\n",
    "    \n",
    "    fig.show()\n",
    "    # plotly.offline.plot(fig,filename='D:/'+ mousename+'/barplot.html')\n",
    "    fig.write_image(f\"{out_name}.svg\")\n",
    "    fig.write_html(f\"{out_name}.html\")"
   ]
  },
  {
   "cell_type": "code",
   "execution_count": 56,
   "metadata": {
    "tags": []
   },
   "outputs": [
    {
     "data": {
      "application/vnd.plotly.v1+json": {
       "config": {
        "plotlyServerURL": "https://plot.ly"
       },
       "data": [
        {
         "hovertemplate": "<i>%{x}</i>, <b>%{text}</b>",
         "marker": {
          "color": "red"
         },
         "name": "",
         "orientation": "h",
         "type": "bar",
         "x": [
          0.098,
          0.101,
          0.016,
          0.064,
          0.024,
          0.087,
          1.902,
          1.239,
          5.125,
          3.849,
          0.242,
          1.713,
          5.624,
          16.389,
          13.739,
          20.439
         ],
         "xaxis": "x",
         "y": [
          "scwm",
          "SSp-un6b",
          "SSp-un5",
          "SSp-un2/3",
          "SSp-un1",
          "SSs6a",
          "SSs5",
          "SSs4",
          "SSs2/3",
          "SSs1",
          "SSp-bfd6b",
          "SSp-bfd6a",
          "SSp-bfd5",
          "SSp-bfd4",
          "SSp-bfd2/3",
          "SSp-bfd1"
         ],
         "yaxis": "y"
        },
        {
         "hovertemplate": "<i>%{x}</i>, <b>%{text}</b>",
         "marker": {
          "color": "black"
         },
         "name": "",
         "orientation": "h",
         "type": "bar",
         "x": [
          2.324,
          5.742
         ],
         "xaxis": "x2",
         "y": [
          "SSp-bfd2/3",
          "SSp-bfd1"
         ],
         "yaxis": "y2"
        }
       ],
       "layout": {
        "annotations": [
         {
          "font": {
           "size": 16
          },
          "showarrow": false,
          "text": "Axons",
          "textangle": 90,
          "x": 0.98,
          "xanchor": "left",
          "xref": "paper",
          "y": 0.6174999999999999,
          "yanchor": "middle",
          "yref": "paper"
         },
         {
          "font": {
           "size": 16
          },
          "showarrow": false,
          "text": "Dendrites",
          "textangle": 90,
          "x": 0.98,
          "xanchor": "left",
          "xref": "paper",
          "y": 0.0425,
          "yanchor": "middle",
          "yref": "paper"
         }
        ],
        "height": 1000,
        "paper_bgcolor": "rgba(0, 0, 0, 0)",
        "plot_bgcolor": "rgba(0, 0, 0, 0)",
        "showlegend": false,
        "template": {
         "data": {
          "bar": [
           {
            "error_x": {
             "color": "#2a3f5f"
            },
            "error_y": {
             "color": "#2a3f5f"
            },
            "marker": {
             "line": {
              "color": "#E5ECF6",
              "width": 0.5
             },
             "pattern": {
              "fillmode": "overlay",
              "size": 10,
              "solidity": 0.2
             }
            },
            "type": "bar"
           }
          ],
          "barpolar": [
           {
            "marker": {
             "line": {
              "color": "#E5ECF6",
              "width": 0.5
             },
             "pattern": {
              "fillmode": "overlay",
              "size": 10,
              "solidity": 0.2
             }
            },
            "type": "barpolar"
           }
          ],
          "carpet": [
           {
            "aaxis": {
             "endlinecolor": "#2a3f5f",
             "gridcolor": "white",
             "linecolor": "white",
             "minorgridcolor": "white",
             "startlinecolor": "#2a3f5f"
            },
            "baxis": {
             "endlinecolor": "#2a3f5f",
             "gridcolor": "white",
             "linecolor": "white",
             "minorgridcolor": "white",
             "startlinecolor": "#2a3f5f"
            },
            "type": "carpet"
           }
          ],
          "choropleth": [
           {
            "colorbar": {
             "outlinewidth": 0,
             "ticks": ""
            },
            "type": "choropleth"
           }
          ],
          "contour": [
           {
            "colorbar": {
             "outlinewidth": 0,
             "ticks": ""
            },
            "colorscale": [
             [
              0,
              "#0d0887"
             ],
             [
              0.1111111111111111,
              "#46039f"
             ],
             [
              0.2222222222222222,
              "#7201a8"
             ],
             [
              0.3333333333333333,
              "#9c179e"
             ],
             [
              0.4444444444444444,
              "#bd3786"
             ],
             [
              0.5555555555555556,
              "#d8576b"
             ],
             [
              0.6666666666666666,
              "#ed7953"
             ],
             [
              0.7777777777777778,
              "#fb9f3a"
             ],
             [
              0.8888888888888888,
              "#fdca26"
             ],
             [
              1,
              "#f0f921"
             ]
            ],
            "type": "contour"
           }
          ],
          "contourcarpet": [
           {
            "colorbar": {
             "outlinewidth": 0,
             "ticks": ""
            },
            "type": "contourcarpet"
           }
          ],
          "heatmap": [
           {
            "colorbar": {
             "outlinewidth": 0,
             "ticks": ""
            },
            "colorscale": [
             [
              0,
              "#0d0887"
             ],
             [
              0.1111111111111111,
              "#46039f"
             ],
             [
              0.2222222222222222,
              "#7201a8"
             ],
             [
              0.3333333333333333,
              "#9c179e"
             ],
             [
              0.4444444444444444,
              "#bd3786"
             ],
             [
              0.5555555555555556,
              "#d8576b"
             ],
             [
              0.6666666666666666,
              "#ed7953"
             ],
             [
              0.7777777777777778,
              "#fb9f3a"
             ],
             [
              0.8888888888888888,
              "#fdca26"
             ],
             [
              1,
              "#f0f921"
             ]
            ],
            "type": "heatmap"
           }
          ],
          "heatmapgl": [
           {
            "colorbar": {
             "outlinewidth": 0,
             "ticks": ""
            },
            "colorscale": [
             [
              0,
              "#0d0887"
             ],
             [
              0.1111111111111111,
              "#46039f"
             ],
             [
              0.2222222222222222,
              "#7201a8"
             ],
             [
              0.3333333333333333,
              "#9c179e"
             ],
             [
              0.4444444444444444,
              "#bd3786"
             ],
             [
              0.5555555555555556,
              "#d8576b"
             ],
             [
              0.6666666666666666,
              "#ed7953"
             ],
             [
              0.7777777777777778,
              "#fb9f3a"
             ],
             [
              0.8888888888888888,
              "#fdca26"
             ],
             [
              1,
              "#f0f921"
             ]
            ],
            "type": "heatmapgl"
           }
          ],
          "histogram": [
           {
            "marker": {
             "pattern": {
              "fillmode": "overlay",
              "size": 10,
              "solidity": 0.2
             }
            },
            "type": "histogram"
           }
          ],
          "histogram2d": [
           {
            "colorbar": {
             "outlinewidth": 0,
             "ticks": ""
            },
            "colorscale": [
             [
              0,
              "#0d0887"
             ],
             [
              0.1111111111111111,
              "#46039f"
             ],
             [
              0.2222222222222222,
              "#7201a8"
             ],
             [
              0.3333333333333333,
              "#9c179e"
             ],
             [
              0.4444444444444444,
              "#bd3786"
             ],
             [
              0.5555555555555556,
              "#d8576b"
             ],
             [
              0.6666666666666666,
              "#ed7953"
             ],
             [
              0.7777777777777778,
              "#fb9f3a"
             ],
             [
              0.8888888888888888,
              "#fdca26"
             ],
             [
              1,
              "#f0f921"
             ]
            ],
            "type": "histogram2d"
           }
          ],
          "histogram2dcontour": [
           {
            "colorbar": {
             "outlinewidth": 0,
             "ticks": ""
            },
            "colorscale": [
             [
              0,
              "#0d0887"
             ],
             [
              0.1111111111111111,
              "#46039f"
             ],
             [
              0.2222222222222222,
              "#7201a8"
             ],
             [
              0.3333333333333333,
              "#9c179e"
             ],
             [
              0.4444444444444444,
              "#bd3786"
             ],
             [
              0.5555555555555556,
              "#d8576b"
             ],
             [
              0.6666666666666666,
              "#ed7953"
             ],
             [
              0.7777777777777778,
              "#fb9f3a"
             ],
             [
              0.8888888888888888,
              "#fdca26"
             ],
             [
              1,
              "#f0f921"
             ]
            ],
            "type": "histogram2dcontour"
           }
          ],
          "mesh3d": [
           {
            "colorbar": {
             "outlinewidth": 0,
             "ticks": ""
            },
            "type": "mesh3d"
           }
          ],
          "parcoords": [
           {
            "line": {
             "colorbar": {
              "outlinewidth": 0,
              "ticks": ""
             }
            },
            "type": "parcoords"
           }
          ],
          "pie": [
           {
            "automargin": true,
            "type": "pie"
           }
          ],
          "scatter": [
           {
            "marker": {
             "colorbar": {
              "outlinewidth": 0,
              "ticks": ""
             }
            },
            "type": "scatter"
           }
          ],
          "scatter3d": [
           {
            "line": {
             "colorbar": {
              "outlinewidth": 0,
              "ticks": ""
             }
            },
            "marker": {
             "colorbar": {
              "outlinewidth": 0,
              "ticks": ""
             }
            },
            "type": "scatter3d"
           }
          ],
          "scattercarpet": [
           {
            "marker": {
             "colorbar": {
              "outlinewidth": 0,
              "ticks": ""
             }
            },
            "type": "scattercarpet"
           }
          ],
          "scattergeo": [
           {
            "marker": {
             "colorbar": {
              "outlinewidth": 0,
              "ticks": ""
             }
            },
            "type": "scattergeo"
           }
          ],
          "scattergl": [
           {
            "marker": {
             "colorbar": {
              "outlinewidth": 0,
              "ticks": ""
             }
            },
            "type": "scattergl"
           }
          ],
          "scattermapbox": [
           {
            "marker": {
             "colorbar": {
              "outlinewidth": 0,
              "ticks": ""
             }
            },
            "type": "scattermapbox"
           }
          ],
          "scatterpolar": [
           {
            "marker": {
             "colorbar": {
              "outlinewidth": 0,
              "ticks": ""
             }
            },
            "type": "scatterpolar"
           }
          ],
          "scatterpolargl": [
           {
            "marker": {
             "colorbar": {
              "outlinewidth": 0,
              "ticks": ""
             }
            },
            "type": "scatterpolargl"
           }
          ],
          "scatterternary": [
           {
            "marker": {
             "colorbar": {
              "outlinewidth": 0,
              "ticks": ""
             }
            },
            "type": "scatterternary"
           }
          ],
          "surface": [
           {
            "colorbar": {
             "outlinewidth": 0,
             "ticks": ""
            },
            "colorscale": [
             [
              0,
              "#0d0887"
             ],
             [
              0.1111111111111111,
              "#46039f"
             ],
             [
              0.2222222222222222,
              "#7201a8"
             ],
             [
              0.3333333333333333,
              "#9c179e"
             ],
             [
              0.4444444444444444,
              "#bd3786"
             ],
             [
              0.5555555555555556,
              "#d8576b"
             ],
             [
              0.6666666666666666,
              "#ed7953"
             ],
             [
              0.7777777777777778,
              "#fb9f3a"
             ],
             [
              0.8888888888888888,
              "#fdca26"
             ],
             [
              1,
              "#f0f921"
             ]
            ],
            "type": "surface"
           }
          ],
          "table": [
           {
            "cells": {
             "fill": {
              "color": "#EBF0F8"
             },
             "line": {
              "color": "white"
             }
            },
            "header": {
             "fill": {
              "color": "#C8D4E3"
             },
             "line": {
              "color": "white"
             }
            },
            "type": "table"
           }
          ]
         },
         "layout": {
          "annotationdefaults": {
           "arrowcolor": "#2a3f5f",
           "arrowhead": 0,
           "arrowwidth": 1
          },
          "autotypenumbers": "strict",
          "coloraxis": {
           "colorbar": {
            "outlinewidth": 0,
            "ticks": ""
           }
          },
          "colorscale": {
           "diverging": [
            [
             0,
             "#8e0152"
            ],
            [
             0.1,
             "#c51b7d"
            ],
            [
             0.2,
             "#de77ae"
            ],
            [
             0.3,
             "#f1b6da"
            ],
            [
             0.4,
             "#fde0ef"
            ],
            [
             0.5,
             "#f7f7f7"
            ],
            [
             0.6,
             "#e6f5d0"
            ],
            [
             0.7,
             "#b8e186"
            ],
            [
             0.8,
             "#7fbc41"
            ],
            [
             0.9,
             "#4d9221"
            ],
            [
             1,
             "#276419"
            ]
           ],
           "sequential": [
            [
             0,
             "#0d0887"
            ],
            [
             0.1111111111111111,
             "#46039f"
            ],
            [
             0.2222222222222222,
             "#7201a8"
            ],
            [
             0.3333333333333333,
             "#9c179e"
            ],
            [
             0.4444444444444444,
             "#bd3786"
            ],
            [
             0.5555555555555556,
             "#d8576b"
            ],
            [
             0.6666666666666666,
             "#ed7953"
            ],
            [
             0.7777777777777778,
             "#fb9f3a"
            ],
            [
             0.8888888888888888,
             "#fdca26"
            ],
            [
             1,
             "#f0f921"
            ]
           ],
           "sequentialminus": [
            [
             0,
             "#0d0887"
            ],
            [
             0.1111111111111111,
             "#46039f"
            ],
            [
             0.2222222222222222,
             "#7201a8"
            ],
            [
             0.3333333333333333,
             "#9c179e"
            ],
            [
             0.4444444444444444,
             "#bd3786"
            ],
            [
             0.5555555555555556,
             "#d8576b"
            ],
            [
             0.6666666666666666,
             "#ed7953"
            ],
            [
             0.7777777777777778,
             "#fb9f3a"
            ],
            [
             0.8888888888888888,
             "#fdca26"
            ],
            [
             1,
             "#f0f921"
            ]
           ]
          },
          "colorway": [
           "#636efa",
           "#EF553B",
           "#00cc96",
           "#ab63fa",
           "#FFA15A",
           "#19d3f3",
           "#FF6692",
           "#B6E880",
           "#FF97FF",
           "#FECB52"
          ],
          "font": {
           "color": "#2a3f5f"
          },
          "geo": {
           "bgcolor": "white",
           "lakecolor": "white",
           "landcolor": "#E5ECF6",
           "showlakes": true,
           "showland": true,
           "subunitcolor": "white"
          },
          "hoverlabel": {
           "align": "left"
          },
          "hovermode": "closest",
          "mapbox": {
           "style": "light"
          },
          "paper_bgcolor": "white",
          "plot_bgcolor": "#E5ECF6",
          "polar": {
           "angularaxis": {
            "gridcolor": "white",
            "linecolor": "white",
            "ticks": ""
           },
           "bgcolor": "#E5ECF6",
           "radialaxis": {
            "gridcolor": "white",
            "linecolor": "white",
            "ticks": ""
           }
          },
          "scene": {
           "xaxis": {
            "backgroundcolor": "#E5ECF6",
            "gridcolor": "white",
            "gridwidth": 2,
            "linecolor": "white",
            "showbackground": true,
            "ticks": "",
            "zerolinecolor": "white"
           },
           "yaxis": {
            "backgroundcolor": "#E5ECF6",
            "gridcolor": "white",
            "gridwidth": 2,
            "linecolor": "white",
            "showbackground": true,
            "ticks": "",
            "zerolinecolor": "white"
           },
           "zaxis": {
            "backgroundcolor": "#E5ECF6",
            "gridcolor": "white",
            "gridwidth": 2,
            "linecolor": "white",
            "showbackground": true,
            "ticks": "",
            "zerolinecolor": "white"
           }
          },
          "shapedefaults": {
           "line": {
            "color": "#2a3f5f"
           }
          },
          "ternary": {
           "aaxis": {
            "gridcolor": "white",
            "linecolor": "white",
            "ticks": ""
           },
           "baxis": {
            "gridcolor": "white",
            "linecolor": "white",
            "ticks": ""
           },
           "bgcolor": "#E5ECF6",
           "caxis": {
            "gridcolor": "white",
            "linecolor": "white",
            "ticks": ""
           }
          },
          "title": {
           "x": 0.05
          },
          "xaxis": {
           "automargin": true,
           "gridcolor": "white",
           "linecolor": "white",
           "ticks": "",
           "title": {
            "standoff": 15
           },
           "zerolinecolor": "white",
           "zerolinewidth": 2
          },
          "yaxis": {
           "automargin": true,
           "gridcolor": "white",
           "linecolor": "white",
           "ticks": "",
           "title": {
            "standoff": 15
           },
           "zerolinecolor": "white",
           "zerolinewidth": 2
          }
         }
        },
        "width": 2000,
        "xaxis": {
         "anchor": "y",
         "autorange": true,
         "domain": [
          0,
          0.98
         ],
         "gridcolor": "gold",
         "range": [
          0,
          21.514736842105265
         ],
         "type": "linear"
        },
        "xaxis2": {
         "anchor": "y2",
         "autorange": true,
         "domain": [
          0,
          0.98
         ],
         "gridcolor": "gold",
         "range": [
          0,
          6.04421052631579
         ],
         "type": "linear"
        },
        "yaxis": {
         "anchor": "x",
         "autorange": true,
         "categoryorder": "trace",
         "domain": [
          0.235,
          1
         ],
         "range": [
          -0.5,
          15.5
         ],
         "type": "category"
        },
        "yaxis2": {
         "anchor": "x2",
         "autorange": true,
         "domain": [
          0,
          0.085
         ],
         "range": [
          -0.5,
          1.5
         ],
         "type": "category"
        }
       }
      },
      "image/png": "[encoded data removed]",
      "text/html": [
       "<div>                            <div id=\"bfa49bd8-9610-4712-bcfb-efa3a335570f\" class=\"plotly-graph-div\" style=\"height:1000px; width:2000px;\"></div>            <script type=\"text/javascript\">                require([\"plotly\"], function(Plotly) {                    window.PLOTLYENV=window.PLOTLYENV || {};                                    if (document.getElementById(\"bfa49bd8-9610-4712-bcfb-efa3a335570f\")) {                    Plotly.newPlot(                        \"bfa49bd8-9610-4712-bcfb-efa3a335570f\",                        [{\"hovertemplate\":\"<i>%{x}</i>, <b>%{text}</b>\",\"marker\":{\"color\":\"red\"},\"name\":\"\",\"orientation\":\"h\",\"type\":\"bar\",\"x\":[0.098,0.101,0.016,0.064,0.024,0.087,1.902,1.239,5.125,3.849,0.242,1.713,5.624,16.389,13.739,20.439],\"xaxis\":\"x\",\"y\":[\"scwm\",\"SSp-un6b\",\"SSp-un5\",\"SSp-un2/3\",\"SSp-un1\",\"SSs6a\",\"SSs5\",\"SSs4\",\"SSs2/3\",\"SSs1\",\"SSp-bfd6b\",\"SSp-bfd6a\",\"SSp-bfd5\",\"SSp-bfd4\",\"SSp-bfd2/3\",\"SSp-bfd1\"],\"yaxis\":\"y\"},{\"hovertemplate\":\"<i>%{x}</i>, <b>%{text}</b>\",\"marker\":{\"color\":\"black\"},\"name\":\"\",\"orientation\":\"h\",\"type\":\"bar\",\"x\":[2.324,5.742],\"xaxis\":\"x2\",\"y\":[\"SSp-bfd2/3\",\"SSp-bfd1\"],\"yaxis\":\"y2\"}],                        {\"annotations\":[{\"font\":{\"size\":16},\"showarrow\":false,\"text\":\"Axons\",\"textangle\":90,\"x\":0.98,\"xanchor\":\"left\",\"xref\":\"paper\",\"y\":0.6174999999999999,\"yanchor\":\"middle\",\"yref\":\"paper\"},{\"font\":{\"size\":16},\"showarrow\":false,\"text\":\"Dendrites\",\"textangle\":90,\"x\":0.98,\"xanchor\":\"left\",\"xref\":\"paper\",\"y\":0.0425,\"yanchor\":\"middle\",\"yref\":\"paper\"}],\"height\":1000,\"paper_bgcolor\":\"rgba(0,0,0,0)\",\"plot_bgcolor\":\"rgba(0,0,0,0)\",\"showlegend\":false,\"template\":{\"data\":{\"bar\":[{\"error_x\":{\"color\":\"#2a3f5f\"},\"error_y\":{\"color\":\"#2a3f5f\"},\"marker\":{\"line\":{\"color\":\"#E5ECF6\",\"width\":0.5},\"pattern\":{\"fillmode\":\"overlay\",\"size\":10,\"solidity\":0.2}},\"type\":\"bar\"}],\"barpolar\":[{\"marker\":{\"line\":{\"color\":\"#E5ECF6\",\"width\":0.5},\"pattern\":{\"fillmode\":\"overlay\",\"size\":10,\"solidity\":0.2}},\"type\":\"barpolar\"}],\"carpet\":[{\"aaxis\":{\"endlinecolor\":\"#2a3f5f\",\"gridcolor\":\"white\",\"linecolor\":\"white\",\"minorgridcolor\":\"white\",\"startlinecolor\":\"#2a3f5f\"},\"baxis\":{\"endlinecolor\":\"#2a3f5f\",\"gridcolor\":\"white\",\"linecolor\":\"white\",\"minorgridcolor\":\"white\",\"startlinecolor\":\"#2a3f5f\"},\"type\":\"carpet\"}],\"choropleth\":[{\"colorbar\":{\"outlinewidth\":0,\"ticks\":\"\"},\"type\":\"choropleth\"}],\"contour\":[{\"colorbar\":{\"outlinewidth\":0,\"ticks\":\"\"},\"colorscale\":[[0.0,\"#0d0887\"],[0.1111111111111111,\"#46039f\"],[0.2222222222222222,\"#7201a8\"],[0.3333333333333333,\"#9c179e\"],[0.4444444444444444,\"#bd3786\"],[0.5555555555555556,\"#d8576b\"],[0.6666666666666666,\"#ed7953\"],[0.7777777777777778,\"#fb9f3a\"],[0.8888888888888888,\"#fdca26\"],[1.0,\"#f0f921\"]],\"type\":\"contour\"}],\"contourcarpet\":[{\"colorbar\":{\"outlinewidth\":0,\"ticks\":\"\"},\"type\":\"contourcarpet\"}],\"heatmap\":[{\"colorbar\":{\"outlinewidth\":0,\"ticks\":\"\"},\"colorscale\":[[0.0,\"#0d0887\"],[0.1111111111111111,\"#46039f\"],[0.2222222222222222,\"#7201a8\"],[0.3333333333333333,\"#9c179e\"],[0.4444444444444444,\"#bd3786\"],[0.5555555555555556,\"#d8576b\"],[0.6666666666666666,\"#ed7953\"],[0.7777777777777778,\"#fb9f3a\"],[0.8888888888888888,\"#fdca26\"],[1.0,\"#f0f921\"]],\"type\":\"heatmap\"}],\"heatmapgl\":[{\"colorbar\":{\"outlinewidth\":0,\"ticks\":\"\"},\"colorscale\":[[0.0,\"#0d0887\"],[0.1111111111111111,\"#46039f\"],[0.2222222222222222,\"#7201a8\"],[0.3333333333333333,\"#9c179e\"],[0.4444444444444444,\"#bd3786\"],[0.5555555555555556,\"#d8576b\"],[0.6666666666666666,\"#ed7953\"],[0.7777777777777778,\"#fb9f3a\"],[0.8888888888888888,\"#fdca26\"],[1.0,\"#f0f921\"]],\"type\":\"heatmapgl\"}],\"histogram\":[{\"marker\":{\"pattern\":{\"fillmode\":\"overlay\",\"size\":10,\"solidity\":0.2}},\"type\":\"histogram\"}],\"histogram2d\":[{\"colorbar\":{\"outlinewidth\":0,\"ticks\":\"\"},\"colorscale\":[[0.0,\"#0d0887\"],[0.1111111111111111,\"#46039f\"],[0.2222222222222222,\"#7201a8\"],[0.3333333333333333,\"#9c179e\"],[0.4444444444444444,\"#bd3786\"],[0.5555555555555556,\"#d8576b\"],[0.6666666666666666,\"#ed7953\"],[0.7777777777777778,\"#fb9f3a\"],[0.8888888888888888,\"#fdca26\"],[1.0,\"#f0f921\"]],\"type\":\"histogram2d\"}],\"histogram2dcontour\":[{\"colorbar\":{\"outlinewidth\":0,\"ticks\":\"\"},\"colorscale\":[[0.0,\"#0d0887\"],[0.1111111111111111,\"#46039f\"],[0.2222222222222222,\"#7201a8\"],[0.3333333333333333,\"#9c179e\"],[0.4444444444444444,\"#bd3786\"],[0.5555555555555556,\"#d8576b\"],[0.6666666666666666,\"#ed7953\"],[0.7777777777777778,\"#fb9f3a\"],[0.8888888888888888,\"#fdca26\"],[1.0,\"#f0f921\"]],\"type\":\"histogram2dcontour\"}],\"mesh3d\":[{\"colorbar\":{\"outlinewidth\":0,\"ticks\":\"\"},\"type\":\"mesh3d\"}],\"parcoords\":[{\"line\":{\"colorbar\":{\"outlinewidth\":0,\"ticks\":\"\"}},\"type\":\"parcoords\"}],\"pie\":[{\"automargin\":true,\"type\":\"pie\"}],\"scatter\":[{\"marker\":{\"colorbar\":{\"outlinewidth\":0,\"ticks\":\"\"}},\"type\":\"scatter\"}],\"scatter3d\":[{\"line\":{\"colorbar\":{\"outlinewidth\":0,\"ticks\":\"\"}},\"marker\":{\"colorbar\":{\"outlinewidth\":0,\"ticks\":\"\"}},\"type\":\"scatter3d\"}],\"scattercarpet\":[{\"marker\":{\"colorbar\":{\"outlinewidth\":0,\"ticks\":\"\"}},\"type\":\"scattercarpet\"}],\"scattergeo\":[{\"marker\":{\"colorbar\":{\"outlinewidth\":0,\"ticks\":\"\"}},\"type\":\"scattergeo\"}],\"scattergl\":[{\"marker\":{\"colorbar\":{\"outlinewidth\":0,\"ticks\":\"\"}},\"type\":\"scattergl\"}],\"scattermapbox\":[{\"marker\":{\"colorbar\":{\"outlinewidth\":0,\"ticks\":\"\"}},\"type\":\"scattermapbox\"}],\"scatterpolar\":[{\"marker\":{\"colorbar\":{\"outlinewidth\":0,\"ticks\":\"\"}},\"type\":\"scatterpolar\"}],\"scatterpolargl\":[{\"marker\":{\"colorbar\":{\"outlinewidth\":0,\"ticks\":\"\"}},\"type\":\"scatterpolargl\"}],\"scatterternary\":[{\"marker\":{\"colorbar\":{\"outlinewidth\":0,\"ticks\":\"\"}},\"type\":\"scatterternary\"}],\"surface\":[{\"colorbar\":{\"outlinewidth\":0,\"ticks\":\"\"},\"colorscale\":[[0.0,\"#0d0887\"],[0.1111111111111111,\"#46039f\"],[0.2222222222222222,\"#7201a8\"],[0.3333333333333333,\"#9c179e\"],[0.4444444444444444,\"#bd3786\"],[0.5555555555555556,\"#d8576b\"],[0.6666666666666666,\"#ed7953\"],[0.7777777777777778,\"#fb9f3a\"],[0.8888888888888888,\"#fdca26\"],[1.0,\"#f0f921\"]],\"type\":\"surface\"}],\"table\":[{\"cells\":{\"fill\":{\"color\":\"#EBF0F8\"},\"line\":{\"color\":\"white\"}},\"header\":{\"fill\":{\"color\":\"#C8D4E3\"},\"line\":{\"color\":\"white\"}},\"type\":\"table\"}]},\"layout\":{\"annotationdefaults\":{\"arrowcolor\":\"#2a3f5f\",\"arrowhead\":0,\"arrowwidth\":1},\"autotypenumbers\":\"strict\",\"coloraxis\":{\"colorbar\":{\"outlinewidth\":0,\"ticks\":\"\"}},\"colorscale\":{\"diverging\":[[0,\"#8e0152\"],[0.1,\"#c51b7d\"],[0.2,\"#de77ae\"],[0.3,\"#f1b6da\"],[0.4,\"#fde0ef\"],[0.5,\"#f7f7f7\"],[0.6,\"#e6f5d0\"],[0.7,\"#b8e186\"],[0.8,\"#7fbc41\"],[0.9,\"#4d9221\"],[1,\"#276419\"]],\"sequential\":[[0.0,\"#0d0887\"],[0.1111111111111111,\"#46039f\"],[0.2222222222222222,\"#7201a8\"],[0.3333333333333333,\"#9c179e\"],[0.4444444444444444,\"#bd3786\"],[0.5555555555555556,\"#d8576b\"],[0.6666666666666666,\"#ed7953\"],[0.7777777777777778,\"#fb9f3a\"],[0.8888888888888888,\"#fdca26\"],[1.0,\"#f0f921\"]],\"sequentialminus\":[[0.0,\"#0d0887\"],[0.1111111111111111,\"#46039f\"],[0.2222222222222222,\"#7201a8\"],[0.3333333333333333,\"#9c179e\"],[0.4444444444444444,\"#bd3786\"],[0.5555555555555556,\"#d8576b\"],[0.6666666666666666,\"#ed7953\"],[0.7777777777777778,\"#fb9f3a\"],[0.8888888888888888,\"#fdca26\"],[1.0,\"#f0f921\"]]},\"colorway\":[\"#636efa\",\"#EF553B\",\"#00cc96\",\"#ab63fa\",\"#FFA15A\",\"#19d3f3\",\"#FF6692\",\"#B6E880\",\"#FF97FF\",\"#FECB52\"],\"font\":{\"color\":\"#2a3f5f\"},\"geo\":{\"bgcolor\":\"white\",\"lakecolor\":\"white\",\"landcolor\":\"#E5ECF6\",\"showlakes\":true,\"showland\":true,\"subunitcolor\":\"white\"},\"hoverlabel\":{\"align\":\"left\"},\"hovermode\":\"closest\",\"mapbox\":{\"style\":\"light\"},\"paper_bgcolor\":\"white\",\"plot_bgcolor\":\"#E5ECF6\",\"polar\":{\"angularaxis\":{\"gridcolor\":\"white\",\"linecolor\":\"white\",\"ticks\":\"\"},\"bgcolor\":\"#E5ECF6\",\"radialaxis\":{\"gridcolor\":\"white\",\"linecolor\":\"white\",\"ticks\":\"\"}},\"scene\":{\"xaxis\":{\"backgroundcolor\":\"#E5ECF6\",\"gridcolor\":\"white\",\"gridwidth\":2,\"linecolor\":\"white\",\"showbackground\":true,\"ticks\":\"\",\"zerolinecolor\":\"white\"},\"yaxis\":{\"backgroundcolor\":\"#E5ECF6\",\"gridcolor\":\"white\",\"gridwidth\":2,\"linecolor\":\"white\",\"showbackground\":true,\"ticks\":\"\",\"zerolinecolor\":\"white\"},\"zaxis\":{\"backgroundcolor\":\"#E5ECF6\",\"gridcolor\":\"white\",\"gridwidth\":2,\"linecolor\":\"white\",\"showbackground\":true,\"ticks\":\"\",\"zerolinecolor\":\"white\"}},\"shapedefaults\":{\"line\":{\"color\":\"#2a3f5f\"}},\"ternary\":{\"aaxis\":{\"gridcolor\":\"white\",\"linecolor\":\"white\",\"ticks\":\"\"},\"baxis\":{\"gridcolor\":\"white\",\"linecolor\":\"white\",\"ticks\":\"\"},\"bgcolor\":\"#E5ECF6\",\"caxis\":{\"gridcolor\":\"white\",\"linecolor\":\"white\",\"ticks\":\"\"}},\"title\":{\"x\":0.05},\"xaxis\":{\"automargin\":true,\"gridcolor\":\"white\",\"linecolor\":\"white\",\"ticks\":\"\",\"title\":{\"standoff\":15},\"zerolinecolor\":\"white\",\"zerolinewidth\":2},\"yaxis\":{\"automargin\":true,\"gridcolor\":\"white\",\"linecolor\":\"white\",\"ticks\":\"\",\"title\":{\"standoff\":15},\"zerolinecolor\":\"white\",\"zerolinewidth\":2}}},\"width\":2000,\"xaxis\":{\"anchor\":\"y\",\"domain\":[0.0,0.98],\"gridcolor\":\"gold\"},\"xaxis2\":{\"anchor\":\"y2\",\"domain\":[0.0,0.98],\"gridcolor\":\"gold\"},\"yaxis\":{\"anchor\":\"x\",\"categoryorder\":\"trace\",\"domain\":[0.235,1.0]},\"yaxis2\":{\"anchor\":\"x2\",\"domain\":[0.0,0.085]}},                        {\"responsive\": true}                    ).then(function(){\n",
       "                            \n",
       "var gd = document.getElementById('bfa49bd8-9610-4712-bcfb-efa3a335570f');\n",
       "var x = new MutationObserver(function (mutations, observer) {{\n",
       "        var display = window.getComputedStyle(gd).display;\n",
       "        if (!display || display === 'none') {{\n",
       "            console.log([gd, 'removed!']);\n",
       "            Plotly.purge(gd);\n",
       "            observer.disconnect();\n",
       "        }}\n",
       "}});\n",
       "\n",
       "// Listen for the removal of the full notebook cells\n",
       "var notebookContainer = gd.closest('#notebook-container');\n",
       "if (notebookContainer) {{\n",
       "    x.observe(notebookContainer, {childList: true});\n",
       "}}\n",
       "\n",
       "// Listen for the clearing of the current output cell\n",
       "var outputEl = gd.closest('.output');\n",
       "if (outputEl) {{\n",
       "    x.observe(outputEl, {childList: true});\n",
       "}}\n",
       "\n",
       "                        })                };                });            </script>        </div>"
      ]
     },
     "metadata": {},
     "output_type": "display_data"
    }
   ],
   "source": [
    "plot_hist(new_axonpd,new_dendritepd,mouse_name)\n"
   ]
  },
  {
   "cell_type": "markdown",
   "metadata": {
    "jp-MarkdownHeadingCollapsed": true,
    "tags": []
   },
   "source": [
    "## End of section 4"
   ]
  },
  {
   "cell_type": "markdown",
   "metadata": {
    "tags": []
   },
   "source": [
    "## Section 5\n",
    "Final summary annotated heatmap from a folder containing all of the _parents.xls"
   ]
  },
  {
   "cell_type": "code",
   "execution_count": 74,
   "metadata": {
    "tags": []
   },
   "outputs": [],
   "source": [
    "#define useful functions\n",
    "\n",
    "def prep_df(df):\n",
    "    # prepares df so that we only keep the id and total count\n",
    "    # input is the full path and name of the .csv file\n",
    "    read_file= pd.read_excel(df)\n",
    "    \n",
    "    #new= read_file.set_index('id').sort_values(by='graph_order').T\n",
    "    #This lines sorts the region ids according to its graph order, such that related regions are ordered together \n",
    "    # ie, barrel field layers are grouped together\n",
    "    # Note that this order would be disrupted when you have to later concatenate dfs with different columns...so need to rearrange later\n",
    "    \n",
    "    \n",
    "    new= read_file.set_index('acronym').T\n",
    "    new_series=new.loc['Total_counts']\n",
    "\n",
    "    full_df= new_series.to_frame()\n",
    "    full_df.rename(columns={'Total_counts': na.find_mousename(df)}, inplace=1)\n",
    "    return full_df\n",
    "\n",
    "def combine_df(folder,list_of_fname,inner=False):\n",
    "    # combine multiple data frames, keeping only mouse name, region id and amount of um\n",
    "    # by default, returns all of the regions that at least one brain that projects to it\n",
    "    # if inner=True, then only return regions that overlaps in all brains\n",
    "    \n",
    "    #initialize a dataframe which will later be removed\n",
    "    full_name_initial=os.path.join(folder, list_of_fname[0])\n",
    "    full_df=prep_df(full_name_initial)\n",
    "    \n",
    "    if inner==True:\n",
    "        for i in (list_of_fname):\n",
    "            new_df=prep_df(os.path.join(folder, i))\n",
    "            full_df=full_df=pd.concat([full_df, new_df],axis=1, join='inner')\n",
    "\n",
    "    else: \n",
    "        for i in (list_of_fname):\n",
    "            new_df=prep_df(os.path.join(folder, i))\n",
    "            full_df=full_df=pd.concat([full_df, new_df],axis=1)\n",
    "\n",
    "    full_df=full_df.T.iloc[1:]\n",
    "    return full_df\n",
    "\n",
    "def sort_id(df):\n",
    "    #pick out id that are present in the df and sort them by graph order\n",
    "    #this puts relevant regions together(ie, all layers of S1bf will be together, etc)\n",
    "    atlas_ref=na.atlas_labels[na.atlas_labels['id'].isin(df.columns)]\n",
    "    sorted_id=[x for _,x in sorted(zip(atlas_ref['graph_order'],atlas_ref['id']))]\n",
    "    return sorted_id"
   ]
  },
  {
   "cell_type": "code",
   "execution_count": 75,
   "metadata": {},
   "outputs": [],
   "source": [
    "#find all relevant files\n",
    "\n",
    "files= [ i for i  in os.listdir(out_dir) if 'with_counts' in i]\n",
    "parent_axons= [ i for i  in os.listdir(out_dir) if 'parent' in i]"
   ]
  },
  {
   "cell_type": "code",
   "execution_count": 76,
   "metadata": {},
   "outputs": [],
   "source": [
    "axonal_df= combine_df(out_dir, parent_axons)\n",
    "# keep Nan for heatmap display purposes\n"
   ]
  },
  {
   "cell_type": "code",
   "execution_count": 77,
   "metadata": {},
   "outputs": [],
   "source": [
    "axonal_df.sort_index(axis=1)\n",
    "new_colorder= axonal_df.sum()\n",
    "# new column order would be the region with greatest amount goes first, ie: bfd, trunk, visc, etc\n",
    "\n",
    "new_colorder.sort_values(ascending=False, inplace=True)\n",
    "# finds the new coloumn order\n",
    "axonal_df=axonal_df[new_colorder.index]\n",
    "# sort by new column order"
   ]
  },
  {
   "cell_type": "code",
   "execution_count": 78,
   "metadata": {},
   "outputs": [
    {
     "data": {
      "text/plain": [
       "(2, 12)"
      ]
     },
     "execution_count": 78,
     "metadata": {},
     "output_type": "execute_result"
    }
   ],
   "source": [
    "axonal_df.shape"
   ]
  },
  {
   "cell_type": "code",
   "execution_count": 79,
   "metadata": {},
   "outputs": [
    {
     "data": {
      "text/html": [
       "<div>\n",
       "<style scoped>\n",
       "    .dataframe tbody tr th:only-of-type {\n",
       "        vertical-align: middle;\n",
       "    }\n",
       "\n",
       "    .dataframe tbody tr th {\n",
       "        vertical-align: top;\n",
       "    }\n",
       "\n",
       "    .dataframe thead th {\n",
       "        text-align: right;\n",
       "    }\n",
       "</style>\n",
       "<table border=\"1\" class=\"dataframe\">\n",
       "  <thead>\n",
       "    <tr style=\"text-align: right;\">\n",
       "      <th>acronym</th>\n",
       "      <th>SSp-bfd</th>\n",
       "      <th>SSs</th>\n",
       "      <th>VISrl</th>\n",
       "      <th>VISa</th>\n",
       "      <th>VISam</th>\n",
       "      <th>st</th>\n",
       "      <th>VISp</th>\n",
       "      <th>cc</th>\n",
       "      <th>SSp-tr</th>\n",
       "      <th>SSp-un</th>\n",
       "      <th>fiber tracts</th>\n",
       "      <th>mfbc</th>\n",
       "    </tr>\n",
       "  </thead>\n",
       "  <tbody>\n",
       "    <tr>\n",
       "      <th>Average</th>\n",
       "      <td>53258.0</td>\n",
       "      <td>7964.5</td>\n",
       "      <td>2568.5</td>\n",
       "      <td>1141.0</td>\n",
       "      <td>878.5</td>\n",
       "      <td>521.5</td>\n",
       "      <td>380.0</td>\n",
       "      <td>367.0</td>\n",
       "      <td>342.5</td>\n",
       "      <td>132.5</td>\n",
       "      <td>89.5</td>\n",
       "      <td>46.5</td>\n",
       "    </tr>\n",
       "  </tbody>\n",
       "</table>\n",
       "</div>"
      ],
      "text/plain": [
       "acronym  SSp-bfd     SSs   VISrl    VISa  VISam     st   VISp     cc SSp-tr  \\\n",
       "Average  53258.0  7964.5  2568.5  1141.0  878.5  521.5  380.0  367.0  342.5   \n",
       "\n",
       "acronym SSp-un fiber tracts  mfbc  \n",
       "Average  132.5         89.5  46.5  "
      ]
     },
     "execution_count": 79,
     "metadata": {},
     "output_type": "execute_result"
    }
   ],
   "source": [
    "average= axonal_df.sum()/axonal_df.shape[0]\n",
    "# 10 cells in total\n",
    "avg=average.to_numpy()\n",
    "\n",
    "avg=np.reshape(avg,(1,axonal_df.shape[1]))\n",
    "# 28 region item in total\n",
    "avg.shape\n",
    "\n",
    "df_average = pd.DataFrame(avg, columns=axonal_df.columns, index=['Average'])\n",
    "df_average"
   ]
  },
  {
   "cell_type": "code",
   "execution_count": 80,
   "metadata": {},
   "outputs": [
    {
     "name": "stderr",
     "output_type": "stream",
     "text": [
      "D:\\anaconda\\envs\\anatomy\\lib\\site-packages\\ipykernel_launcher.py:2: FutureWarning:\n",
      "\n",
      "As the xlwt package is no longer maintained, the xlwt engine will be removed in a future version of pandas. This is the only engine in pandas that supports writing in the xls format. Install openpyxl and write to an xlsx file instead. You can set the option io.excel.xls.writer to 'xlwt' to silence this warning. While this option is deprecated and will also raise a warning, it can be globally set and the warning suppressed.\n",
      "\n"
     ]
    }
   ],
   "source": [
    "final= axonal_df.append(df_average)\n",
    "final.to_excel(out_dir+'/axonal_df_parent.xls')\n",
    "\n",
    "final=final[::-1] \n",
    "# so that average row shows up last when plotting"
   ]
  },
  {
   "cell_type": "code",
   "execution_count": 81,
   "metadata": {},
   "outputs": [],
   "source": [
    "# Dataframe preparation done, now to plot annotated heatmap\n",
    "x=final.columns.to_list()\n",
    "y=final.index.to_list()\n",
    "\n",
    "full_name=[]\n",
    "for i in x:\n",
    "    name=na.atlas_labels.query(f\"acronym== '{i}'\").name.values[0]\n",
    "    full_name.append(name)\n",
    "# get full name"
   ]
  },
  {
   "cell_type": "code",
   "execution_count": 82,
   "metadata": {},
   "outputs": [
    {
     "name": "stderr",
     "output_type": "stream",
     "text": [
      "D:\\anaconda\\envs\\anatomy\\lib\\site-packages\\ipykernel_launcher.py:3: FutureWarning:\n",
      "\n",
      "As the xlwt package is no longer maintained, the xlwt engine will be removed in a future version of pandas. This is the only engine in pandas that supports writing in the xls format. Install openpyxl and write to an xlsx file instead. You can set the option io.excel.xls.writer to 'xlwt' to silence this warning. While this option is deprecated and will also raise a warning, it can be globally set and the warning suppressed.\n",
      "\n"
     ]
    }
   ],
   "source": [
    "parent_acronyms= {'Acronyms': x, 'Full name': full_name}\n",
    "acronym_df= pd.DataFrame(data=parent_acronyms)\n",
    "acronym_df.to_excel(out_dir+'/acronym_parent.xls')\n",
    "# Generate an excel file of acronyms as well as their full name (for list of acronym in appendix)"
   ]
  },
  {
   "cell_type": "code",
   "execution_count": null,
   "metadata": {},
   "outputs": [],
   "source": []
  },
  {
   "cell_type": "code",
   "execution_count": 83,
   "metadata": {},
   "outputs": [
    {
     "name": "stderr",
     "output_type": "stream",
     "text": [
      "D:\\anaconda\\envs\\anatomy\\lib\\site-packages\\numpy\\core\\fromnumeric.py:87: RuntimeWarning:\n",
      "\n",
      "invalid value encountered in reduce\n",
      "\n"
     ]
    },
    {
     "data": {
      "application/vnd.plotly.v1+json": {
       "config": {
        "plotlyServerURL": "https://plot.ly"
       },
       "data": [
        {
         "colorscale": [
          [
           0,
           "rgb(12,51,131)"
          ],
          [
           0.25,
           "rgb(10,136,186)"
          ],
          [
           0.5,
           "rgb(242,211,56)"
          ],
          [
           0.75,
           "rgb(242,143,56)"
          ],
          [
           1,
           "rgb(217,30,30)"
          ]
         ],
         "hoverongaps": false,
         "reversescale": false,
         "showscale": false,
         "text": [
          "Primary somatosensory area, barrel field",
          "Supplemental somatosensory area",
          "Rostrolateral visual area",
          "Anterior area",
          "Anteromedial visual area",
          "stria terminalis",
          "Primary visual area",
          "corpus callosum",
          "Primary somatosensory area, trunk",
          "Primary somatosensory area, unassigned",
          "fiber tracts",
          "cerebrum related"
         ],
         "type": "heatmap",
         "x": [
          "SSp-bfd",
          "SSs",
          "VISrl",
          "VISa",
          "VISam",
          "st",
          "VISp",
          "cc",
          "SSp-tr",
          "SSp-un",
          "fiber tracts",
          "mfbc"
         ],
         "y": [
          "Average",
          "AL110",
          "AL080"
         ],
         "z": [
          [
           53258,
           7964.5,
           2568.5,
           1141,
           878.5,
           521.5,
           380,
           367,
           342.5,
           132.5,
           89.5,
           46.5
          ],
          [
           58146,
           12202,
           null,
           null,
           null,
           null,
           null,
           null,
           null,
           205,
           98,
           null
          ],
          [
           48370,
           3727,
           5137,
           2282,
           1757,
           1043,
           760,
           734,
           685,
           60,
           81,
           93
          ]
         ],
         "zmax": 10000,
         "zmin": 100
        }
       ],
       "layout": {
        "annotations": [
         {
          "font": {
           "color": "white"
          },
          "showarrow": false,
          "text": "53258.0",
          "x": "SSp-bfd",
          "xref": "x",
          "y": "Average",
          "yref": "y"
         },
         {
          "font": {
           "color": "white"
          },
          "showarrow": false,
          "text": "7964.5",
          "x": "SSs",
          "xref": "x",
          "y": "Average",
          "yref": "y"
         },
         {
          "font": {
           "color": "white"
          },
          "showarrow": false,
          "text": "2568.5",
          "x": "VISrl",
          "xref": "x",
          "y": "Average",
          "yref": "y"
         },
         {
          "font": {
           "color": "white"
          },
          "showarrow": false,
          "text": "1141.0",
          "x": "VISa",
          "xref": "x",
          "y": "Average",
          "yref": "y"
         },
         {
          "font": {
           "color": "white"
          },
          "showarrow": false,
          "text": "878.5",
          "x": "VISam",
          "xref": "x",
          "y": "Average",
          "yref": "y"
         },
         {
          "font": {
           "color": "white"
          },
          "showarrow": false,
          "text": "521.5",
          "x": "st",
          "xref": "x",
          "y": "Average",
          "yref": "y"
         },
         {
          "font": {
           "color": "white"
          },
          "showarrow": false,
          "text": "380.0",
          "x": "VISp",
          "xref": "x",
          "y": "Average",
          "yref": "y"
         },
         {
          "font": {
           "color": "white"
          },
          "showarrow": false,
          "text": "367.0",
          "x": "cc",
          "xref": "x",
          "y": "Average",
          "yref": "y"
         },
         {
          "font": {
           "color": "white"
          },
          "showarrow": false,
          "text": "342.5",
          "x": "SSp-tr",
          "xref": "x",
          "y": "Average",
          "yref": "y"
         },
         {
          "font": {
           "color": "white"
          },
          "showarrow": false,
          "text": "132.5",
          "x": "SSp-un",
          "xref": "x",
          "y": "Average",
          "yref": "y"
         },
         {
          "font": {
           "color": "white"
          },
          "showarrow": false,
          "text": "89.5",
          "x": "fiber tracts",
          "xref": "x",
          "y": "Average",
          "yref": "y"
         },
         {
          "font": {
           "color": "white"
          },
          "showarrow": false,
          "text": "46.5",
          "x": "mfbc",
          "xref": "x",
          "y": "Average",
          "yref": "y"
         },
         {
          "font": {
           "color": "white"
          },
          "showarrow": false,
          "text": "58146",
          "x": "SSp-bfd",
          "xref": "x",
          "y": "AL110",
          "yref": "y"
         },
         {
          "font": {
           "color": "white"
          },
          "showarrow": false,
          "text": "12202",
          "x": "SSs",
          "xref": "x",
          "y": "AL110",
          "yref": "y"
         },
         {
          "font": {
           "color": "white"
          },
          "showarrow": false,
          "text": "nan",
          "x": "VISrl",
          "xref": "x",
          "y": "AL110",
          "yref": "y"
         },
         {
          "font": {
           "color": "white"
          },
          "showarrow": false,
          "text": "nan",
          "x": "VISa",
          "xref": "x",
          "y": "AL110",
          "yref": "y"
         },
         {
          "font": {
           "color": "white"
          },
          "showarrow": false,
          "text": "nan",
          "x": "VISam",
          "xref": "x",
          "y": "AL110",
          "yref": "y"
         },
         {
          "font": {
           "color": "white"
          },
          "showarrow": false,
          "text": "nan",
          "x": "st",
          "xref": "x",
          "y": "AL110",
          "yref": "y"
         },
         {
          "font": {
           "color": "white"
          },
          "showarrow": false,
          "text": "nan",
          "x": "VISp",
          "xref": "x",
          "y": "AL110",
          "yref": "y"
         },
         {
          "font": {
           "color": "white"
          },
          "showarrow": false,
          "text": "nan",
          "x": "cc",
          "xref": "x",
          "y": "AL110",
          "yref": "y"
         },
         {
          "font": {
           "color": "white"
          },
          "showarrow": false,
          "text": "nan",
          "x": "SSp-tr",
          "xref": "x",
          "y": "AL110",
          "yref": "y"
         },
         {
          "font": {
           "color": "white"
          },
          "showarrow": false,
          "text": "205",
          "x": "SSp-un",
          "xref": "x",
          "y": "AL110",
          "yref": "y"
         },
         {
          "font": {
           "color": "white"
          },
          "showarrow": false,
          "text": "98",
          "x": "fiber tracts",
          "xref": "x",
          "y": "AL110",
          "yref": "y"
         },
         {
          "font": {
           "color": "white"
          },
          "showarrow": false,
          "text": "nan",
          "x": "mfbc",
          "xref": "x",
          "y": "AL110",
          "yref": "y"
         },
         {
          "font": {
           "color": "white"
          },
          "showarrow": false,
          "text": "48370",
          "x": "SSp-bfd",
          "xref": "x",
          "y": "AL080",
          "yref": "y"
         },
         {
          "font": {
           "color": "white"
          },
          "showarrow": false,
          "text": "3727",
          "x": "SSs",
          "xref": "x",
          "y": "AL080",
          "yref": "y"
         },
         {
          "font": {
           "color": "white"
          },
          "showarrow": false,
          "text": "5137",
          "x": "VISrl",
          "xref": "x",
          "y": "AL080",
          "yref": "y"
         },
         {
          "font": {
           "color": "white"
          },
          "showarrow": false,
          "text": "2282",
          "x": "VISa",
          "xref": "x",
          "y": "AL080",
          "yref": "y"
         },
         {
          "font": {
           "color": "white"
          },
          "showarrow": false,
          "text": "1757",
          "x": "VISam",
          "xref": "x",
          "y": "AL080",
          "yref": "y"
         },
         {
          "font": {
           "color": "white"
          },
          "showarrow": false,
          "text": "1043",
          "x": "st",
          "xref": "x",
          "y": "AL080",
          "yref": "y"
         },
         {
          "font": {
           "color": "white"
          },
          "showarrow": false,
          "text": "760",
          "x": "VISp",
          "xref": "x",
          "y": "AL080",
          "yref": "y"
         },
         {
          "font": {
           "color": "white"
          },
          "showarrow": false,
          "text": "734",
          "x": "cc",
          "xref": "x",
          "y": "AL080",
          "yref": "y"
         },
         {
          "font": {
           "color": "white"
          },
          "showarrow": false,
          "text": "685",
          "x": "SSp-tr",
          "xref": "x",
          "y": "AL080",
          "yref": "y"
         },
         {
          "font": {
           "color": "white"
          },
          "showarrow": false,
          "text": "60",
          "x": "SSp-un",
          "xref": "x",
          "y": "AL080",
          "yref": "y"
         },
         {
          "font": {
           "color": "white"
          },
          "showarrow": false,
          "text": "81",
          "x": "fiber tracts",
          "xref": "x",
          "y": "AL080",
          "yref": "y"
         },
         {
          "font": {
           "color": "white"
          },
          "showarrow": false,
          "text": "93",
          "x": "mfbc",
          "xref": "x",
          "y": "AL080",
          "yref": "y"
         }
        ],
        "autosize": true,
        "height": 600,
        "paper_bgcolor": "rgba(0, 0, 0, 0)",
        "plot_bgcolor": "rgba(0, 0, 0, 0)",
        "template": {
         "data": {
          "bar": [
           {
            "error_x": {
             "color": "#2a3f5f"
            },
            "error_y": {
             "color": "#2a3f5f"
            },
            "marker": {
             "line": {
              "color": "#E5ECF6",
              "width": 0.5
             },
             "pattern": {
              "fillmode": "overlay",
              "size": 10,
              "solidity": 0.2
             }
            },
            "type": "bar"
           }
          ],
          "barpolar": [
           {
            "marker": {
             "line": {
              "color": "#E5ECF6",
              "width": 0.5
             },
             "pattern": {
              "fillmode": "overlay",
              "size": 10,
              "solidity": 0.2
             }
            },
            "type": "barpolar"
           }
          ],
          "carpet": [
           {
            "aaxis": {
             "endlinecolor": "#2a3f5f",
             "gridcolor": "white",
             "linecolor": "white",
             "minorgridcolor": "white",
             "startlinecolor": "#2a3f5f"
            },
            "baxis": {
             "endlinecolor": "#2a3f5f",
             "gridcolor": "white",
             "linecolor": "white",
             "minorgridcolor": "white",
             "startlinecolor": "#2a3f5f"
            },
            "type": "carpet"
           }
          ],
          "choropleth": [
           {
            "colorbar": {
             "outlinewidth": 0,
             "ticks": ""
            },
            "type": "choropleth"
           }
          ],
          "contour": [
           {
            "colorbar": {
             "outlinewidth": 0,
             "ticks": ""
            },
            "colorscale": [
             [
              0,
              "#0d0887"
             ],
             [
              0.1111111111111111,
              "#46039f"
             ],
             [
              0.2222222222222222,
              "#7201a8"
             ],
             [
              0.3333333333333333,
              "#9c179e"
             ],
             [
              0.4444444444444444,
              "#bd3786"
             ],
             [
              0.5555555555555556,
              "#d8576b"
             ],
             [
              0.6666666666666666,
              "#ed7953"
             ],
             [
              0.7777777777777778,
              "#fb9f3a"
             ],
             [
              0.8888888888888888,
              "#fdca26"
             ],
             [
              1,
              "#f0f921"
             ]
            ],
            "type": "contour"
           }
          ],
          "contourcarpet": [
           {
            "colorbar": {
             "outlinewidth": 0,
             "ticks": ""
            },
            "type": "contourcarpet"
           }
          ],
          "heatmap": [
           {
            "colorbar": {
             "outlinewidth": 0,
             "ticks": ""
            },
            "colorscale": [
             [
              0,
              "#0d0887"
             ],
             [
              0.1111111111111111,
              "#46039f"
             ],
             [
              0.2222222222222222,
              "#7201a8"
             ],
             [
              0.3333333333333333,
              "#9c179e"
             ],
             [
              0.4444444444444444,
              "#bd3786"
             ],
             [
              0.5555555555555556,
              "#d8576b"
             ],
             [
              0.6666666666666666,
              "#ed7953"
             ],
             [
              0.7777777777777778,
              "#fb9f3a"
             ],
             [
              0.8888888888888888,
              "#fdca26"
             ],
             [
              1,
              "#f0f921"
             ]
            ],
            "type": "heatmap"
           }
          ],
          "heatmapgl": [
           {
            "colorbar": {
             "outlinewidth": 0,
             "ticks": ""
            },
            "colorscale": [
             [
              0,
              "#0d0887"
             ],
             [
              0.1111111111111111,
              "#46039f"
             ],
             [
              0.2222222222222222,
              "#7201a8"
             ],
             [
              0.3333333333333333,
              "#9c179e"
             ],
             [
              0.4444444444444444,
              "#bd3786"
             ],
             [
              0.5555555555555556,
              "#d8576b"
             ],
             [
              0.6666666666666666,
              "#ed7953"
             ],
             [
              0.7777777777777778,
              "#fb9f3a"
             ],
             [
              0.8888888888888888,
              "#fdca26"
             ],
             [
              1,
              "#f0f921"
             ]
            ],
            "type": "heatmapgl"
           }
          ],
          "histogram": [
           {
            "marker": {
             "pattern": {
              "fillmode": "overlay",
              "size": 10,
              "solidity": 0.2
             }
            },
            "type": "histogram"
           }
          ],
          "histogram2d": [
           {
            "colorbar": {
             "outlinewidth": 0,
             "ticks": ""
            },
            "colorscale": [
             [
              0,
              "#0d0887"
             ],
             [
              0.1111111111111111,
              "#46039f"
             ],
             [
              0.2222222222222222,
              "#7201a8"
             ],
             [
              0.3333333333333333,
              "#9c179e"
             ],
             [
              0.4444444444444444,
              "#bd3786"
             ],
             [
              0.5555555555555556,
              "#d8576b"
             ],
             [
              0.6666666666666666,
              "#ed7953"
             ],
             [
              0.7777777777777778,
              "#fb9f3a"
             ],
             [
              0.8888888888888888,
              "#fdca26"
             ],
             [
              1,
              "#f0f921"
             ]
            ],
            "type": "histogram2d"
           }
          ],
          "histogram2dcontour": [
           {
            "colorbar": {
             "outlinewidth": 0,
             "ticks": ""
            },
            "colorscale": [
             [
              0,
              "#0d0887"
             ],
             [
              0.1111111111111111,
              "#46039f"
             ],
             [
              0.2222222222222222,
              "#7201a8"
             ],
             [
              0.3333333333333333,
              "#9c179e"
             ],
             [
              0.4444444444444444,
              "#bd3786"
             ],
             [
              0.5555555555555556,
              "#d8576b"
             ],
             [
              0.6666666666666666,
              "#ed7953"
             ],
             [
              0.7777777777777778,
              "#fb9f3a"
             ],
             [
              0.8888888888888888,
              "#fdca26"
             ],
             [
              1,
              "#f0f921"
             ]
            ],
            "type": "histogram2dcontour"
           }
          ],
          "mesh3d": [
           {
            "colorbar": {
             "outlinewidth": 0,
             "ticks": ""
            },
            "type": "mesh3d"
           }
          ],
          "parcoords": [
           {
            "line": {
             "colorbar": {
              "outlinewidth": 0,
              "ticks": ""
             }
            },
            "type": "parcoords"
           }
          ],
          "pie": [
           {
            "automargin": true,
            "type": "pie"
           }
          ],
          "scatter": [
           {
            "marker": {
             "colorbar": {
              "outlinewidth": 0,
              "ticks": ""
             }
            },
            "type": "scatter"
           }
          ],
          "scatter3d": [
           {
            "line": {
             "colorbar": {
              "outlinewidth": 0,
              "ticks": ""
             }
            },
            "marker": {
             "colorbar": {
              "outlinewidth": 0,
              "ticks": ""
             }
            },
            "type": "scatter3d"
           }
          ],
          "scattercarpet": [
           {
            "marker": {
             "colorbar": {
              "outlinewidth": 0,
              "ticks": ""
             }
            },
            "type": "scattercarpet"
           }
          ],
          "scattergeo": [
           {
            "marker": {
             "colorbar": {
              "outlinewidth": 0,
              "ticks": ""
             }
            },
            "type": "scattergeo"
           }
          ],
          "scattergl": [
           {
            "marker": {
             "colorbar": {
              "outlinewidth": 0,
              "ticks": ""
             }
            },
            "type": "scattergl"
           }
          ],
          "scattermapbox": [
           {
            "marker": {
             "colorbar": {
              "outlinewidth": 0,
              "ticks": ""
             }
            },
            "type": "scattermapbox"
           }
          ],
          "scatterpolar": [
           {
            "marker": {
             "colorbar": {
              "outlinewidth": 0,
              "ticks": ""
             }
            },
            "type": "scatterpolar"
           }
          ],
          "scatterpolargl": [
           {
            "marker": {
             "colorbar": {
              "outlinewidth": 0,
              "ticks": ""
             }
            },
            "type": "scatterpolargl"
           }
          ],
          "scatterternary": [
           {
            "marker": {
             "colorbar": {
              "outlinewidth": 0,
              "ticks": ""
             }
            },
            "type": "scatterternary"
           }
          ],
          "surface": [
           {
            "colorbar": {
             "outlinewidth": 0,
             "ticks": ""
            },
            "colorscale": [
             [
              0,
              "#0d0887"
             ],
             [
              0.1111111111111111,
              "#46039f"
             ],
             [
              0.2222222222222222,
              "#7201a8"
             ],
             [
              0.3333333333333333,
              "#9c179e"
             ],
             [
              0.4444444444444444,
              "#bd3786"
             ],
             [
              0.5555555555555556,
              "#d8576b"
             ],
             [
              0.6666666666666666,
              "#ed7953"
             ],
             [
              0.7777777777777778,
              "#fb9f3a"
             ],
             [
              0.8888888888888888,
              "#fdca26"
             ],
             [
              1,
              "#f0f921"
             ]
            ],
            "type": "surface"
           }
          ],
          "table": [
           {
            "cells": {
             "fill": {
              "color": "#EBF0F8"
             },
             "line": {
              "color": "white"
             }
            },
            "header": {
             "fill": {
              "color": "#C8D4E3"
             },
             "line": {
              "color": "white"
             }
            },
            "type": "table"
           }
          ]
         },
         "layout": {
          "annotationdefaults": {
           "arrowcolor": "#2a3f5f",
           "arrowhead": 0,
           "arrowwidth": 1
          },
          "autotypenumbers": "strict",
          "coloraxis": {
           "colorbar": {
            "outlinewidth": 0,
            "ticks": ""
           }
          },
          "colorscale": {
           "diverging": [
            [
             0,
             "#8e0152"
            ],
            [
             0.1,
             "#c51b7d"
            ],
            [
             0.2,
             "#de77ae"
            ],
            [
             0.3,
             "#f1b6da"
            ],
            [
             0.4,
             "#fde0ef"
            ],
            [
             0.5,
             "#f7f7f7"
            ],
            [
             0.6,
             "#e6f5d0"
            ],
            [
             0.7,
             "#b8e186"
            ],
            [
             0.8,
             "#7fbc41"
            ],
            [
             0.9,
             "#4d9221"
            ],
            [
             1,
             "#276419"
            ]
           ],
           "sequential": [
            [
             0,
             "#0d0887"
            ],
            [
             0.1111111111111111,
             "#46039f"
            ],
            [
             0.2222222222222222,
             "#7201a8"
            ],
            [
             0.3333333333333333,
             "#9c179e"
            ],
            [
             0.4444444444444444,
             "#bd3786"
            ],
            [
             0.5555555555555556,
             "#d8576b"
            ],
            [
             0.6666666666666666,
             "#ed7953"
            ],
            [
             0.7777777777777778,
             "#fb9f3a"
            ],
            [
             0.8888888888888888,
             "#fdca26"
            ],
            [
             1,
             "#f0f921"
            ]
           ],
           "sequentialminus": [
            [
             0,
             "#0d0887"
            ],
            [
             0.1111111111111111,
             "#46039f"
            ],
            [
             0.2222222222222222,
             "#7201a8"
            ],
            [
             0.3333333333333333,
             "#9c179e"
            ],
            [
             0.4444444444444444,
             "#bd3786"
            ],
            [
             0.5555555555555556,
             "#d8576b"
            ],
            [
             0.6666666666666666,
             "#ed7953"
            ],
            [
             0.7777777777777778,
             "#fb9f3a"
            ],
            [
             0.8888888888888888,
             "#fdca26"
            ],
            [
             1,
             "#f0f921"
            ]
           ]
          },
          "colorway": [
           "#636efa",
           "#EF553B",
           "#00cc96",
           "#ab63fa",
           "#FFA15A",
           "#19d3f3",
           "#FF6692",
           "#B6E880",
           "#FF97FF",
           "#FECB52"
          ],
          "font": {
           "color": "#2a3f5f"
          },
          "geo": {
           "bgcolor": "white",
           "lakecolor": "white",
           "landcolor": "#E5ECF6",
           "showlakes": true,
           "showland": true,
           "subunitcolor": "white"
          },
          "hoverlabel": {
           "align": "left"
          },
          "hovermode": "closest",
          "mapbox": {
           "style": "light"
          },
          "paper_bgcolor": "white",
          "plot_bgcolor": "#E5ECF6",
          "polar": {
           "angularaxis": {
            "gridcolor": "white",
            "linecolor": "white",
            "ticks": ""
           },
           "bgcolor": "#E5ECF6",
           "radialaxis": {
            "gridcolor": "white",
            "linecolor": "white",
            "ticks": ""
           }
          },
          "scene": {
           "xaxis": {
            "backgroundcolor": "#E5ECF6",
            "gridcolor": "white",
            "gridwidth": 2,
            "linecolor": "white",
            "showbackground": true,
            "ticks": "",
            "zerolinecolor": "white"
           },
           "yaxis": {
            "backgroundcolor": "#E5ECF6",
            "gridcolor": "white",
            "gridwidth": 2,
            "linecolor": "white",
            "showbackground": true,
            "ticks": "",
            "zerolinecolor": "white"
           },
           "zaxis": {
            "backgroundcolor": "#E5ECF6",
            "gridcolor": "white",
            "gridwidth": 2,
            "linecolor": "white",
            "showbackground": true,
            "ticks": "",
            "zerolinecolor": "white"
           }
          },
          "shapedefaults": {
           "line": {
            "color": "#2a3f5f"
           }
          },
          "ternary": {
           "aaxis": {
            "gridcolor": "white",
            "linecolor": "white",
            "ticks": ""
           },
           "baxis": {
            "gridcolor": "white",
            "linecolor": "white",
            "ticks": ""
           },
           "bgcolor": "#E5ECF6",
           "caxis": {
            "gridcolor": "white",
            "linecolor": "white",
            "ticks": ""
           }
          },
          "title": {
           "x": 0.05
          },
          "xaxis": {
           "automargin": true,
           "gridcolor": "white",
           "linecolor": "white",
           "ticks": "",
           "title": {
            "standoff": 15
           },
           "zerolinecolor": "white",
           "zerolinewidth": 2
          },
          "yaxis": {
           "automargin": true,
           "gridcolor": "white",
           "linecolor": "white",
           "ticks": "",
           "title": {
            "standoff": 15
           },
           "zerolinecolor": "white",
           "zerolinewidth": 2
          }
         }
        },
        "width": 2000,
        "xaxis": {
         "autorange": true,
         "dtick": 1,
         "gridcolor": "rgb(0, 0, 0)",
         "range": [
          -0.5,
          11.5
         ],
         "showgrid": false,
         "side": "top",
         "ticks": "",
         "type": "category",
         "visible": true
        },
        "yaxis": {
         "autorange": true,
         "dtick": 1,
         "range": [
          -0.5,
          2.5
         ],
         "showgrid": false,
         "ticks": "",
         "ticksuffix": "  ",
         "type": "category",
         "visible": true
        }
       }
      },
      "image/png": "[encoded data removed]",
      "text/html": [
       "<div>                            <div id=\"cbc11633-f72c-4e3e-b6e7-13f77d03a281\" class=\"plotly-graph-div\" style=\"height:600px; width:2000px;\"></div>            <script type=\"text/javascript\">                require([\"plotly\"], function(Plotly) {                    window.PLOTLYENV=window.PLOTLYENV || {};                                    if (document.getElementById(\"cbc11633-f72c-4e3e-b6e7-13f77d03a281\")) {                    Plotly.newPlot(                        \"cbc11633-f72c-4e3e-b6e7-13f77d03a281\",                        [{\"colorscale\":[[0.0,\"rgb(12,51,131)\"],[0.25,\"rgb(10,136,186)\"],[0.5,\"rgb(242,211,56)\"],[0.75,\"rgb(242,143,56)\"],[1.0,\"rgb(217,30,30)\"]],\"hoverongaps\":false,\"reversescale\":false,\"showscale\":false,\"text\":[\"Primary somatosensory area, barrel field\",\"Supplemental somatosensory area\",\"Rostrolateral visual area\",\"Anterior area\",\"Anteromedial visual area\",\"stria terminalis\",\"Primary visual area\",\"corpus callosum\",\"Primary somatosensory area, trunk\",\"Primary somatosensory area, unassigned\",\"fiber tracts\",\"cerebrum related\"],\"type\":\"heatmap\",\"x\":[\"SSp-bfd\",\"SSs\",\"VISrl\",\"VISa\",\"VISam\",\"st\",\"VISp\",\"cc\",\"SSp-tr\",\"SSp-un\",\"fiber tracts\",\"mfbc\"],\"y\":[\"Average\",\"AL110\",\"AL080\"],\"z\":[[53258.0,7964.5,2568.5,1141.0,878.5,521.5,380.0,367.0,342.5,132.5,89.5,46.5],[58146,12202,null,null,null,null,null,null,null,205,98,null],[48370,3727,5137,2282,1757,1043,760,734,685,60,81,93]],\"zmax\":10000,\"zmin\":100}],                        {\"annotations\":[{\"font\":{\"color\":\"white\"},\"showarrow\":false,\"text\":\"53258.0\",\"x\":\"SSp-bfd\",\"xref\":\"x\",\"y\":\"Average\",\"yref\":\"y\"},{\"font\":{\"color\":\"white\"},\"showarrow\":false,\"text\":\"7964.5\",\"x\":\"SSs\",\"xref\":\"x\",\"y\":\"Average\",\"yref\":\"y\"},{\"font\":{\"color\":\"white\"},\"showarrow\":false,\"text\":\"2568.5\",\"x\":\"VISrl\",\"xref\":\"x\",\"y\":\"Average\",\"yref\":\"y\"},{\"font\":{\"color\":\"white\"},\"showarrow\":false,\"text\":\"1141.0\",\"x\":\"VISa\",\"xref\":\"x\",\"y\":\"Average\",\"yref\":\"y\"},{\"font\":{\"color\":\"white\"},\"showarrow\":false,\"text\":\"878.5\",\"x\":\"VISam\",\"xref\":\"x\",\"y\":\"Average\",\"yref\":\"y\"},{\"font\":{\"color\":\"white\"},\"showarrow\":false,\"text\":\"521.5\",\"x\":\"st\",\"xref\":\"x\",\"y\":\"Average\",\"yref\":\"y\"},{\"font\":{\"color\":\"white\"},\"showarrow\":false,\"text\":\"380.0\",\"x\":\"VISp\",\"xref\":\"x\",\"y\":\"Average\",\"yref\":\"y\"},{\"font\":{\"color\":\"white\"},\"showarrow\":false,\"text\":\"367.0\",\"x\":\"cc\",\"xref\":\"x\",\"y\":\"Average\",\"yref\":\"y\"},{\"font\":{\"color\":\"white\"},\"showarrow\":false,\"text\":\"342.5\",\"x\":\"SSp-tr\",\"xref\":\"x\",\"y\":\"Average\",\"yref\":\"y\"},{\"font\":{\"color\":\"white\"},\"showarrow\":false,\"text\":\"132.5\",\"x\":\"SSp-un\",\"xref\":\"x\",\"y\":\"Average\",\"yref\":\"y\"},{\"font\":{\"color\":\"white\"},\"showarrow\":false,\"text\":\"89.5\",\"x\":\"fiber tracts\",\"xref\":\"x\",\"y\":\"Average\",\"yref\":\"y\"},{\"font\":{\"color\":\"white\"},\"showarrow\":false,\"text\":\"46.5\",\"x\":\"mfbc\",\"xref\":\"x\",\"y\":\"Average\",\"yref\":\"y\"},{\"font\":{\"color\":\"white\"},\"showarrow\":false,\"text\":\"58146\",\"x\":\"SSp-bfd\",\"xref\":\"x\",\"y\":\"AL110\",\"yref\":\"y\"},{\"font\":{\"color\":\"white\"},\"showarrow\":false,\"text\":\"12202\",\"x\":\"SSs\",\"xref\":\"x\",\"y\":\"AL110\",\"yref\":\"y\"},{\"font\":{\"color\":\"white\"},\"showarrow\":false,\"text\":\"nan\",\"x\":\"VISrl\",\"xref\":\"x\",\"y\":\"AL110\",\"yref\":\"y\"},{\"font\":{\"color\":\"white\"},\"showarrow\":false,\"text\":\"nan\",\"x\":\"VISa\",\"xref\":\"x\",\"y\":\"AL110\",\"yref\":\"y\"},{\"font\":{\"color\":\"white\"},\"showarrow\":false,\"text\":\"nan\",\"x\":\"VISam\",\"xref\":\"x\",\"y\":\"AL110\",\"yref\":\"y\"},{\"font\":{\"color\":\"white\"},\"showarrow\":false,\"text\":\"nan\",\"x\":\"st\",\"xref\":\"x\",\"y\":\"AL110\",\"yref\":\"y\"},{\"font\":{\"color\":\"white\"},\"showarrow\":false,\"text\":\"nan\",\"x\":\"VISp\",\"xref\":\"x\",\"y\":\"AL110\",\"yref\":\"y\"},{\"font\":{\"color\":\"white\"},\"showarrow\":false,\"text\":\"nan\",\"x\":\"cc\",\"xref\":\"x\",\"y\":\"AL110\",\"yref\":\"y\"},{\"font\":{\"color\":\"white\"},\"showarrow\":false,\"text\":\"nan\",\"x\":\"SSp-tr\",\"xref\":\"x\",\"y\":\"AL110\",\"yref\":\"y\"},{\"font\":{\"color\":\"white\"},\"showarrow\":false,\"text\":\"205\",\"x\":\"SSp-un\",\"xref\":\"x\",\"y\":\"AL110\",\"yref\":\"y\"},{\"font\":{\"color\":\"white\"},\"showarrow\":false,\"text\":\"98\",\"x\":\"fiber tracts\",\"xref\":\"x\",\"y\":\"AL110\",\"yref\":\"y\"},{\"font\":{\"color\":\"white\"},\"showarrow\":false,\"text\":\"nan\",\"x\":\"mfbc\",\"xref\":\"x\",\"y\":\"AL110\",\"yref\":\"y\"},{\"font\":{\"color\":\"white\"},\"showarrow\":false,\"text\":\"48370\",\"x\":\"SSp-bfd\",\"xref\":\"x\",\"y\":\"AL080\",\"yref\":\"y\"},{\"font\":{\"color\":\"white\"},\"showarrow\":false,\"text\":\"3727\",\"x\":\"SSs\",\"xref\":\"x\",\"y\":\"AL080\",\"yref\":\"y\"},{\"font\":{\"color\":\"white\"},\"showarrow\":false,\"text\":\"5137\",\"x\":\"VISrl\",\"xref\":\"x\",\"y\":\"AL080\",\"yref\":\"y\"},{\"font\":{\"color\":\"white\"},\"showarrow\":false,\"text\":\"2282\",\"x\":\"VISa\",\"xref\":\"x\",\"y\":\"AL080\",\"yref\":\"y\"},{\"font\":{\"color\":\"white\"},\"showarrow\":false,\"text\":\"1757\",\"x\":\"VISam\",\"xref\":\"x\",\"y\":\"AL080\",\"yref\":\"y\"},{\"font\":{\"color\":\"white\"},\"showarrow\":false,\"text\":\"1043\",\"x\":\"st\",\"xref\":\"x\",\"y\":\"AL080\",\"yref\":\"y\"},{\"font\":{\"color\":\"white\"},\"showarrow\":false,\"text\":\"760\",\"x\":\"VISp\",\"xref\":\"x\",\"y\":\"AL080\",\"yref\":\"y\"},{\"font\":{\"color\":\"white\"},\"showarrow\":false,\"text\":\"734\",\"x\":\"cc\",\"xref\":\"x\",\"y\":\"AL080\",\"yref\":\"y\"},{\"font\":{\"color\":\"white\"},\"showarrow\":false,\"text\":\"685\",\"x\":\"SSp-tr\",\"xref\":\"x\",\"y\":\"AL080\",\"yref\":\"y\"},{\"font\":{\"color\":\"white\"},\"showarrow\":false,\"text\":\"60\",\"x\":\"SSp-un\",\"xref\":\"x\",\"y\":\"AL080\",\"yref\":\"y\"},{\"font\":{\"color\":\"white\"},\"showarrow\":false,\"text\":\"81\",\"x\":\"fiber tracts\",\"xref\":\"x\",\"y\":\"AL080\",\"yref\":\"y\"},{\"font\":{\"color\":\"white\"},\"showarrow\":false,\"text\":\"93\",\"x\":\"mfbc\",\"xref\":\"x\",\"y\":\"AL080\",\"yref\":\"y\"}],\"autosize\":true,\"height\":600,\"paper_bgcolor\":\"rgba(0,0,0,0)\",\"plot_bgcolor\":\"rgba(0,0,0,0)\",\"template\":{\"data\":{\"bar\":[{\"error_x\":{\"color\":\"#2a3f5f\"},\"error_y\":{\"color\":\"#2a3f5f\"},\"marker\":{\"line\":{\"color\":\"#E5ECF6\",\"width\":0.5},\"pattern\":{\"fillmode\":\"overlay\",\"size\":10,\"solidity\":0.2}},\"type\":\"bar\"}],\"barpolar\":[{\"marker\":{\"line\":{\"color\":\"#E5ECF6\",\"width\":0.5},\"pattern\":{\"fillmode\":\"overlay\",\"size\":10,\"solidity\":0.2}},\"type\":\"barpolar\"}],\"carpet\":[{\"aaxis\":{\"endlinecolor\":\"#2a3f5f\",\"gridcolor\":\"white\",\"linecolor\":\"white\",\"minorgridcolor\":\"white\",\"startlinecolor\":\"#2a3f5f\"},\"baxis\":{\"endlinecolor\":\"#2a3f5f\",\"gridcolor\":\"white\",\"linecolor\":\"white\",\"minorgridcolor\":\"white\",\"startlinecolor\":\"#2a3f5f\"},\"type\":\"carpet\"}],\"choropleth\":[{\"colorbar\":{\"outlinewidth\":0,\"ticks\":\"\"},\"type\":\"choropleth\"}],\"contour\":[{\"colorbar\":{\"outlinewidth\":0,\"ticks\":\"\"},\"colorscale\":[[0.0,\"#0d0887\"],[0.1111111111111111,\"#46039f\"],[0.2222222222222222,\"#7201a8\"],[0.3333333333333333,\"#9c179e\"],[0.4444444444444444,\"#bd3786\"],[0.5555555555555556,\"#d8576b\"],[0.6666666666666666,\"#ed7953\"],[0.7777777777777778,\"#fb9f3a\"],[0.8888888888888888,\"#fdca26\"],[1.0,\"#f0f921\"]],\"type\":\"contour\"}],\"contourcarpet\":[{\"colorbar\":{\"outlinewidth\":0,\"ticks\":\"\"},\"type\":\"contourcarpet\"}],\"heatmap\":[{\"colorbar\":{\"outlinewidth\":0,\"ticks\":\"\"},\"colorscale\":[[0.0,\"#0d0887\"],[0.1111111111111111,\"#46039f\"],[0.2222222222222222,\"#7201a8\"],[0.3333333333333333,\"#9c179e\"],[0.4444444444444444,\"#bd3786\"],[0.5555555555555556,\"#d8576b\"],[0.6666666666666666,\"#ed7953\"],[0.7777777777777778,\"#fb9f3a\"],[0.8888888888888888,\"#fdca26\"],[1.0,\"#f0f921\"]],\"type\":\"heatmap\"}],\"heatmapgl\":[{\"colorbar\":{\"outlinewidth\":0,\"ticks\":\"\"},\"colorscale\":[[0.0,\"#0d0887\"],[0.1111111111111111,\"#46039f\"],[0.2222222222222222,\"#7201a8\"],[0.3333333333333333,\"#9c179e\"],[0.4444444444444444,\"#bd3786\"],[0.5555555555555556,\"#d8576b\"],[0.6666666666666666,\"#ed7953\"],[0.7777777777777778,\"#fb9f3a\"],[0.8888888888888888,\"#fdca26\"],[1.0,\"#f0f921\"]],\"type\":\"heatmapgl\"}],\"histogram\":[{\"marker\":{\"pattern\":{\"fillmode\":\"overlay\",\"size\":10,\"solidity\":0.2}},\"type\":\"histogram\"}],\"histogram2d\":[{\"colorbar\":{\"outlinewidth\":0,\"ticks\":\"\"},\"colorscale\":[[0.0,\"#0d0887\"],[0.1111111111111111,\"#46039f\"],[0.2222222222222222,\"#7201a8\"],[0.3333333333333333,\"#9c179e\"],[0.4444444444444444,\"#bd3786\"],[0.5555555555555556,\"#d8576b\"],[0.6666666666666666,\"#ed7953\"],[0.7777777777777778,\"#fb9f3a\"],[0.8888888888888888,\"#fdca26\"],[1.0,\"#f0f921\"]],\"type\":\"histogram2d\"}],\"histogram2dcontour\":[{\"colorbar\":{\"outlinewidth\":0,\"ticks\":\"\"},\"colorscale\":[[0.0,\"#0d0887\"],[0.1111111111111111,\"#46039f\"],[0.2222222222222222,\"#7201a8\"],[0.3333333333333333,\"#9c179e\"],[0.4444444444444444,\"#bd3786\"],[0.5555555555555556,\"#d8576b\"],[0.6666666666666666,\"#ed7953\"],[0.7777777777777778,\"#fb9f3a\"],[0.8888888888888888,\"#fdca26\"],[1.0,\"#f0f921\"]],\"type\":\"histogram2dcontour\"}],\"mesh3d\":[{\"colorbar\":{\"outlinewidth\":0,\"ticks\":\"\"},\"type\":\"mesh3d\"}],\"parcoords\":[{\"line\":{\"colorbar\":{\"outlinewidth\":0,\"ticks\":\"\"}},\"type\":\"parcoords\"}],\"pie\":[{\"automargin\":true,\"type\":\"pie\"}],\"scatter\":[{\"marker\":{\"colorbar\":{\"outlinewidth\":0,\"ticks\":\"\"}},\"type\":\"scatter\"}],\"scatter3d\":[{\"line\":{\"colorbar\":{\"outlinewidth\":0,\"ticks\":\"\"}},\"marker\":{\"colorbar\":{\"outlinewidth\":0,\"ticks\":\"\"}},\"type\":\"scatter3d\"}],\"scattercarpet\":[{\"marker\":{\"colorbar\":{\"outlinewidth\":0,\"ticks\":\"\"}},\"type\":\"scattercarpet\"}],\"scattergeo\":[{\"marker\":{\"colorbar\":{\"outlinewidth\":0,\"ticks\":\"\"}},\"type\":\"scattergeo\"}],\"scattergl\":[{\"marker\":{\"colorbar\":{\"outlinewidth\":0,\"ticks\":\"\"}},\"type\":\"scattergl\"}],\"scattermapbox\":[{\"marker\":{\"colorbar\":{\"outlinewidth\":0,\"ticks\":\"\"}},\"type\":\"scattermapbox\"}],\"scatterpolar\":[{\"marker\":{\"colorbar\":{\"outlinewidth\":0,\"ticks\":\"\"}},\"type\":\"scatterpolar\"}],\"scatterpolargl\":[{\"marker\":{\"colorbar\":{\"outlinewidth\":0,\"ticks\":\"\"}},\"type\":\"scatterpolargl\"}],\"scatterternary\":[{\"marker\":{\"colorbar\":{\"outlinewidth\":0,\"ticks\":\"\"}},\"type\":\"scatterternary\"}],\"surface\":[{\"colorbar\":{\"outlinewidth\":0,\"ticks\":\"\"},\"colorscale\":[[0.0,\"#0d0887\"],[0.1111111111111111,\"#46039f\"],[0.2222222222222222,\"#7201a8\"],[0.3333333333333333,\"#9c179e\"],[0.4444444444444444,\"#bd3786\"],[0.5555555555555556,\"#d8576b\"],[0.6666666666666666,\"#ed7953\"],[0.7777777777777778,\"#fb9f3a\"],[0.8888888888888888,\"#fdca26\"],[1.0,\"#f0f921\"]],\"type\":\"surface\"}],\"table\":[{\"cells\":{\"fill\":{\"color\":\"#EBF0F8\"},\"line\":{\"color\":\"white\"}},\"header\":{\"fill\":{\"color\":\"#C8D4E3\"},\"line\":{\"color\":\"white\"}},\"type\":\"table\"}]},\"layout\":{\"annotationdefaults\":{\"arrowcolor\":\"#2a3f5f\",\"arrowhead\":0,\"arrowwidth\":1},\"autotypenumbers\":\"strict\",\"coloraxis\":{\"colorbar\":{\"outlinewidth\":0,\"ticks\":\"\"}},\"colorscale\":{\"diverging\":[[0,\"#8e0152\"],[0.1,\"#c51b7d\"],[0.2,\"#de77ae\"],[0.3,\"#f1b6da\"],[0.4,\"#fde0ef\"],[0.5,\"#f7f7f7\"],[0.6,\"#e6f5d0\"],[0.7,\"#b8e186\"],[0.8,\"#7fbc41\"],[0.9,\"#4d9221\"],[1,\"#276419\"]],\"sequential\":[[0.0,\"#0d0887\"],[0.1111111111111111,\"#46039f\"],[0.2222222222222222,\"#7201a8\"],[0.3333333333333333,\"#9c179e\"],[0.4444444444444444,\"#bd3786\"],[0.5555555555555556,\"#d8576b\"],[0.6666666666666666,\"#ed7953\"],[0.7777777777777778,\"#fb9f3a\"],[0.8888888888888888,\"#fdca26\"],[1.0,\"#f0f921\"]],\"sequentialminus\":[[0.0,\"#0d0887\"],[0.1111111111111111,\"#46039f\"],[0.2222222222222222,\"#7201a8\"],[0.3333333333333333,\"#9c179e\"],[0.4444444444444444,\"#bd3786\"],[0.5555555555555556,\"#d8576b\"],[0.6666666666666666,\"#ed7953\"],[0.7777777777777778,\"#fb9f3a\"],[0.8888888888888888,\"#fdca26\"],[1.0,\"#f0f921\"]]},\"colorway\":[\"#636efa\",\"#EF553B\",\"#00cc96\",\"#ab63fa\",\"#FFA15A\",\"#19d3f3\",\"#FF6692\",\"#B6E880\",\"#FF97FF\",\"#FECB52\"],\"font\":{\"color\":\"#2a3f5f\"},\"geo\":{\"bgcolor\":\"white\",\"lakecolor\":\"white\",\"landcolor\":\"#E5ECF6\",\"showlakes\":true,\"showland\":true,\"subunitcolor\":\"white\"},\"hoverlabel\":{\"align\":\"left\"},\"hovermode\":\"closest\",\"mapbox\":{\"style\":\"light\"},\"paper_bgcolor\":\"white\",\"plot_bgcolor\":\"#E5ECF6\",\"polar\":{\"angularaxis\":{\"gridcolor\":\"white\",\"linecolor\":\"white\",\"ticks\":\"\"},\"bgcolor\":\"#E5ECF6\",\"radialaxis\":{\"gridcolor\":\"white\",\"linecolor\":\"white\",\"ticks\":\"\"}},\"scene\":{\"xaxis\":{\"backgroundcolor\":\"#E5ECF6\",\"gridcolor\":\"white\",\"gridwidth\":2,\"linecolor\":\"white\",\"showbackground\":true,\"ticks\":\"\",\"zerolinecolor\":\"white\"},\"yaxis\":{\"backgroundcolor\":\"#E5ECF6\",\"gridcolor\":\"white\",\"gridwidth\":2,\"linecolor\":\"white\",\"showbackground\":true,\"ticks\":\"\",\"zerolinecolor\":\"white\"},\"zaxis\":{\"backgroundcolor\":\"#E5ECF6\",\"gridcolor\":\"white\",\"gridwidth\":2,\"linecolor\":\"white\",\"showbackground\":true,\"ticks\":\"\",\"zerolinecolor\":\"white\"}},\"shapedefaults\":{\"line\":{\"color\":\"#2a3f5f\"}},\"ternary\":{\"aaxis\":{\"gridcolor\":\"white\",\"linecolor\":\"white\",\"ticks\":\"\"},\"baxis\":{\"gridcolor\":\"white\",\"linecolor\":\"white\",\"ticks\":\"\"},\"bgcolor\":\"#E5ECF6\",\"caxis\":{\"gridcolor\":\"white\",\"linecolor\":\"white\",\"ticks\":\"\"}},\"title\":{\"x\":0.05},\"xaxis\":{\"automargin\":true,\"gridcolor\":\"white\",\"linecolor\":\"white\",\"ticks\":\"\",\"title\":{\"standoff\":15},\"zerolinecolor\":\"white\",\"zerolinewidth\":2},\"yaxis\":{\"automargin\":true,\"gridcolor\":\"white\",\"linecolor\":\"white\",\"ticks\":\"\",\"title\":{\"standoff\":15},\"zerolinecolor\":\"white\",\"zerolinewidth\":2}}},\"width\":2000,\"xaxis\":{\"dtick\":1,\"gridcolor\":\"rgb(0, 0, 0)\",\"showgrid\":false,\"side\":\"top\",\"ticks\":\"\",\"visible\":true},\"yaxis\":{\"dtick\":1,\"showgrid\":false,\"ticks\":\"\",\"ticksuffix\":\"  \",\"visible\":true}},                        {\"responsive\": true}                    ).then(function(){\n",
       "                            \n",
       "var gd = document.getElementById('cbc11633-f72c-4e3e-b6e7-13f77d03a281');\n",
       "var x = new MutationObserver(function (mutations, observer) {{\n",
       "        var display = window.getComputedStyle(gd).display;\n",
       "        if (!display || display === 'none') {{\n",
       "            console.log([gd, 'removed!']);\n",
       "            Plotly.purge(gd);\n",
       "            observer.disconnect();\n",
       "        }}\n",
       "}});\n",
       "\n",
       "// Listen for the removal of the full notebook cells\n",
       "var notebookContainer = gd.closest('#notebook-container');\n",
       "if (notebookContainer) {{\n",
       "    x.observe(notebookContainer, {childList: true});\n",
       "}}\n",
       "\n",
       "// Listen for the clearing of the current output cell\n",
       "var outputEl = gd.closest('.output');\n",
       "if (outputEl) {{\n",
       "    x.observe(outputEl, {childList: true});\n",
       "}}\n",
       "\n",
       "                        })                };                });            </script>        </div>"
      ]
     },
     "metadata": {},
     "output_type": "display_data"
    }
   ],
   "source": [
    "\n",
    "fig = ff.create_annotated_heatmap(z=final.values, \n",
    "                                  colorscale='Portland',\n",
    "                                  font_colors=['white'],\n",
    "                                  zmax= 10000,\n",
    "                                  zmin=100,\n",
    "                                  y=y,\n",
    "                                  x=x,\n",
    "                                  hoverongaps = False,\n",
    "                                  text=full_name\n",
    "                                 )\n",
    "fig.update_xaxes(visible=True, showgrid=False)\n",
    "fig.update_yaxes(visible=True, showgrid=False)\n",
    "\n",
    "fig.update_layout(\n",
    "    width = 2000, height = 600,\n",
    "    autosize = True,\n",
    "    paper_bgcolor='rgba(0,0,0,0)',\n",
    "    plot_bgcolor='rgba(0,0,0,0)'\n",
    ")\n",
    "\n",
    "fig.show()\n",
    "\n",
    "fig.write_image(out_dir+\"/heatmap.svg\")"
   ]
  },
  {
   "cell_type": "markdown",
   "metadata": {},
   "source": [
    "## End of section 5"
   ]
  }
 ],
 "metadata": {
  "kernelspec": {
   "display_name": "anatomy",
   "language": "python",
   "name": "anatomy"
  },
  "language_info": {
   "codemirror_mode": {
    "name": "ipython",
    "version": 3
   },
   "file_extension": ".py",
   "mimetype": "text/x-python",
   "name": "python",
   "nbconvert_exporter": "python",
   "pygments_lexer": "ipython3",
   "version": "3.7.11"
  }
 },
 "nbformat": 4,
 "nbformat_minor": 4
}
